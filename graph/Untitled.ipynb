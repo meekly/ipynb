{
 "cells": [
  {
   "cell_type": "code",
   "execution_count": 1,
   "metadata": {},
   "outputs": [],
   "source": [
    "# Reading CSV data"
   ]
  },
  {
   "cell_type": "code",
   "execution_count": 12,
   "metadata": {},
   "outputs": [],
   "source": [
    "import csv\n",
    "GRAPH = {}\n",
    "with open('vk_links.csv') as csv_file:\n",
    "    reader = csv.reader(csv_file)\n",
    "    skip_first = 1\n",
    "    for row in reader:\n",
    "        if skip_first == 1:\n",
    "            skip_first = 0\n",
    "            continue\n",
    "        GRAPH[row[0]] = row[1]\n",
    "    "
   ]
  },
  {
   "cell_type": "code",
   "execution_count": 13,
   "metadata": {},
   "outputs": [
    {
     "name": "stdout",
     "output_type": "stream",
     "text": [
      "{'ivan': 'pedici', 'vlasov': 'kino', 'gopher': 'kino', 'lyubov': 'kino', 'ring': 'game', 'fucker': 'game', 'shitter': 'game', 'snoopy': 'sex', 'masturbator': 'sex', 'goose': 'hui', 'monlae': 'hui', 'valyay': 'pedici', 'kisska': 'pedici', 'jakoker': 'pedici', 'pedici': 'ivan', 'game': 'masturbator'}\n"
     ]
    }
   ],
   "source": [
    "print(GRAPH)"
   ]
  },
  {
   "cell_type": "code",
   "execution_count": null,
   "metadata": {},
   "outputs": [],
   "source": []
  }
 ],
 "metadata": {
  "kernelspec": {
   "display_name": "Python 3",
   "language": "python",
   "name": "python3"
  },
  "language_info": {
   "codemirror_mode": {
    "name": "ipython",
    "version": 3
   },
   "file_extension": ".py",
   "mimetype": "text/x-python",
   "name": "python",
   "nbconvert_exporter": "python",
   "pygments_lexer": "ipython3",
   "version": "3.7.2"
  }
 },
 "nbformat": 4,
 "nbformat_minor": 2
}
