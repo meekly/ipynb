{
 "cells": [
  {
   "cell_type": "markdown",
   "metadata": {},
   "source": [
    "# Reading CSV data"
   ]
  },
  {
   "cell_type": "code",
   "execution_count": 73,
   "metadata": {},
   "outputs": [],
   "source": [
    "import csv\n",
    "EDGES = []\n",
    "with open('vk_links.csv') as csv_file:\n",
    "    reader = csv.reader(csv_file)\n",
    "    skip_first = 1\n",
    "    for row in reader:\n",
    "        if skip_first == 1:\n",
    "            skip_first = 0\n",
    "            continue\n",
    "        EDGES.append((row[0],row[1]))\n",
    "    \n",
    "# Getting unique names\n",
    "NAMES = set([x for t in EDGES for x in t])"
   ]
  },
  {
   "cell_type": "code",
   "execution_count": 74,
   "metadata": {},
   "outputs": [],
   "source": [
    "# Debug\n",
    "#print(EDGES)\n",
    "#print(NAMES)"
   ]
  },
  {
   "cell_type": "markdown",
   "metadata": {},
   "source": [
    "# Find out clusters in graph"
   ]
  },
  {
   "cell_type": "code",
   "execution_count": 75,
   "metadata": {},
   "outputs": [
    {
     "name": "stdout",
     "output_type": "stream",
     "text": [
      "Clustering with 12 elements and 3 clusters\n",
      "[0] olga, nina, rita, petr, ivan\n",
      "[1] masha, dasha, nikita, pavel, ula\n",
      "[2] vika, zara\n"
     ]
    }
   ],
   "source": [
    "import louvain      # pacaur -S igraph && sudo pip3 install louvain\n",
    "import igraph as ig\n",
    "\n",
    "\n",
    "# Creating igraph based on our data\n",
    "graph = ig.Graph(directed=True)\n",
    "\n",
    "# Adding vertices\n",
    "for key in NAMES:\n",
    "    graph.add_vertices(key)\n",
    "    \n",
    "# Adding edges\n",
    "graph.add_edges(EDGES)\n",
    "\n",
    "# Clustering data\n",
    "partitions = louvain.find_partition(graph, louvain.ModularityVertexPartition)\n",
    "print(partitions)\n",
    "society = []\n",
    "for idx in range(len(partitions)):\n",
    "    society.append(partitions.subgraph(idx))"
   ]
  },
  {
   "cell_type": "markdown",
   "metadata": {},
   "source": [
    "# Rank users in societies"
   ]
  },
  {
   "cell_type": "code",
   "execution_count": 76,
   "metadata": {},
   "outputs": [
    {
     "name": "stdout",
     "output_type": "stream",
     "text": [
      "{0: {'labels': {'olga': 'leader', 'nina': 'agent', 'rita': 'follower', 'petr': 'agent', 'ivan': 'agent'}, 'edges': [('olga', 'ivan'), ('nina', 'olga'), ('nina', 'rita'), ('rita', 'olga'), ('rita', 'nina'), ('rita', 'petr'), ('petr', 'olga'), ('petr', 'nina'), ('ivan', 'nina'), ('ivan', 'petr')]}, 1: {'labels': {'masha': 'agent', 'dasha': 'leader', 'nikita': 'agent', 'pavel': 'agent', 'ula': 'follower'}, 'edges': [('masha', 'dasha'), ('dasha', 'pavel'), ('nikita', 'dasha'), ('pavel', 'masha'), ('pavel', 'nikita'), ('ula', 'pavel')]}, 2: {'labels': {'vika': 'leader', 'zara': 'follower'}, 'edges': [('zara', 'vika')]}}\n"
     ]
    }
   ],
   "source": [
    "import numpy as np\n",
    "from scipy.sparse import csc_matrix\n",
    "\n",
    "def page_rank(graph, s=0.86, maxerr=0.001):\n",
    "    \"\"\"\n",
    "    Page Rank algorithm for numpy adjacent matrix.\n",
    "    \n",
    "    \n",
    "    \"\"\"\n",
    "    n = graph.shape[0]\n",
    "\n",
    "    # transform G into markov matrix A\n",
    "    A = csc_matrix(graph,dtype=np.float)\n",
    "    rsums = np.array(A.sum(1))[:,0]\n",
    "    ri, ci = A.nonzero()\n",
    "    A.data /= rsums[ri]\n",
    "\n",
    "    # bool array of sink states\n",
    "    sink = rsums==0\n",
    "\n",
    "    # Compute pagerank r until we converge\n",
    "    ro, r = np.zeros(n), np.ones(n)\n",
    "    while np.sum(np.abs(r-ro)) > maxerr:\n",
    "        ro = r.copy()\n",
    "        # calculate each pagerank at a time\n",
    "        for i in range(0,n):\n",
    "            # inlinks of state i\n",
    "            Ai = np.array(A[:,i].todense())[:,0]\n",
    "            # account for sink states\n",
    "            Di = sink / float(n)\n",
    "            # account for teleportation to state i\n",
    "            Ei = np.ones(n) / float(n)\n",
    "\n",
    "            r[i] = ro.dot( Ai*s + Di*s + Ei*(1-s) )\n",
    "\n",
    "    # return normalized pagerank\n",
    "    return r/float(sum(r))\n",
    "\n",
    "def label_members(vs, ranks, k=0.2):\n",
    "    \"\"\"\n",
    "    Label members from `vs' using `ranks' with accuracy `k'\n",
    "    \n",
    "    We get maximum values from ranks and label the accurate winners as \"leaders\".\n",
    "    The accurate loosers are \"followers\".\n",
    "    All the other are \"agents\".\n",
    "    \"\"\"\n",
    "    max_val = ranks[0]\n",
    "    min_val = ranks[0]\n",
    "    max_idx = min_idx = 0\n",
    "    nodes = {}\n",
    "    for idx, val in enumerate(ranks): \n",
    "        max_val = max(val, max_val)\n",
    "        if max_val == val: max_idx = idx\n",
    "        min_val = min(val, min_val)\n",
    "        if min_val == val: min_idx = idx\n",
    "        nodes[vs[idx]] = val\n",
    "           \n",
    "    difference = (max_val - min_val) * k\n",
    "    \n",
    "    labels = {}\n",
    "    for node, rnk in nodes.items():\n",
    "        if rnk >= max_val - difference:\n",
    "            labels[node['name']] = 'leader'\n",
    "        elif rnk <= min_val + difference:\n",
    "            labels[node['name']] = 'follower'\n",
    "        else:\n",
    "            labels[node['name']] = 'agent'\n",
    "            \n",
    "    return labels\n",
    "\n",
    "LABELED_ITEMS = {}\n",
    "for (idx, cluster) in enumerate(society):\n",
    "    adj = list(cluster.get_adjacency())\n",
    "    ranks = page_rank(np.array(adj), s=0.95)\n",
    "    labels = label_members(cluster.vs, ranks, k=0.2) # less is not relevant, more is too common for this dataset\n",
    "    #print(dir(cluster))\n",
    "    LABELED_ITEMS[idx] = {\n",
    "        'labels': {},\n",
    "        'edges': list(map(lambda edge: (cluster.vs[edge[0]]['name'], cluster.vs[edge[1]]['name']),\n",
    "                          cluster.get_edgelist())),\n",
    "    }\n",
    "    for person, label in labels.items():\n",
    "        LABELED_ITEMS[idx]['labels'][person] = label\n",
    "\n",
    "print(LABELED_ITEMS)"
   ]
  },
  {
   "cell_type": "markdown",
   "metadata": {},
   "source": [
    "# Plotting"
   ]
  },
  {
   "cell_type": "code",
   "execution_count": 77,
   "metadata": {},
   "outputs": [
    {
     "data": {
      "image/png": "[encoded data removed]",
      "text/plain": [
       "<Figure size 432x288 with 1 Axes>"
      ]
     },
     "metadata": {},
     "output_type": "display_data"
    },
    {
     "data": {
      "text/plain": [
       "<Figure size 3600x3600 with 0 Axes>"
      ]
     },
     "metadata": {},
     "output_type": "display_data"
    }
   ],
   "source": [
    "import networkx as nx\n",
    "import matplotlib.pyplot as plt\n",
    "\n",
    "G=nx.Graph()\n",
    "\n",
    "# add nodes\n",
    "for node in NAMES:\n",
    "    G.add_node(node)\n",
    "\n",
    "# add edges\n",
    "for edge in EDGES:\n",
    "        G.add_edge(edge[0], edge[1])\n",
    "        \n",
    "#for idx, items in LABELED_ITEMS.items():\n",
    "nx.draw(G, pos=None, node_color=[1]*12, arrows=True, with_labels=True)\n",
    "\n",
    "# show graph\n",
    "plt.figure(figsize=(50, 50))\n",
    "plt.show()\n",
    "#done"
   ]
  }
 ],
 "metadata": {
  "kernelspec": {
   "display_name": "Python 3",
   "language": "python",
   "name": "python3"
  },
  "language_info": {
   "codemirror_mode": {
    "name": "ipython",
    "version": 3
   },
   "file_extension": ".py",
   "mimetype": "text/x-python",
   "name": "python",
   "nbconvert_exporter": "python",
   "pygments_lexer": "ipython3",
   "version": "3.7.3"
  }
 },
 "nbformat": 4,
 "nbformat_minor": 2
}
