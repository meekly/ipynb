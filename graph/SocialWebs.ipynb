{
 "cells": [
  {
   "cell_type": "markdown",
   "metadata": {},
   "source": [
    "# Reading CSV data"
   ]
  },
  {
   "cell_type": "code",
   "execution_count": 89,
   "metadata": {},
   "outputs": [],
   "source": [
    "import csv\n",
    "EDGES = []\n",
    "with open('vk_links.csv') as csv_file:\n",
    "    reader = csv.reader(csv_file)\n",
    "    skip_first = 1\n",
    "    for row in reader:\n",
    "        if skip_first == 1:\n",
    "            skip_first = 0\n",
    "            continue\n",
    "        EDGES.append((row[0],row[1]))\n",
    "    \n",
    "# Getting unique names\n",
    "NAMES = set([x for t in EDGES for x in t])"
   ]
  },
  {
   "cell_type": "code",
   "execution_count": 90,
   "metadata": {},
   "outputs": [],
   "source": [
    "# Debug\n",
    "#print(EDGES)\n",
    "#print(NAMES)"
   ]
  },
  {
   "cell_type": "markdown",
   "metadata": {},
   "source": [
    "# Find out clusters in graph"
   ]
  },
  {
   "cell_type": "code",
   "execution_count": 91,
   "metadata": {},
   "outputs": [
    {
     "name": "stdout",
     "output_type": "stream",
     "text": [
      "Clustering with 12 elements and 3 clusters\n",
      "[0] dasha, pavel, masha, nikita\n",
      "[1] ula, zara, vika, ivan\n",
      "[2] nina, olga, petr, rita\n"
     ]
    }
   ],
   "source": [
    "import louvain      # pacaur -S igraph && sudo pip3 install louvain\n",
    "import igraph as ig\n",
    "\n",
    "\n",
    "# Creating igraph based on our data\n",
    "graph = ig.Graph(directed=True)\n",
    "\n",
    "# Adding vertices\n",
    "for key in NAMES:\n",
    "    graph.add_vertices(key)\n",
    "    \n",
    "# Adding edges\n",
    "graph.add_edges(EDGES)\n",
    "\n",
    "# Clustering data\n",
    "partitions = louvain.find_partition(graph, louvain.ModularityVertexPartition)\n",
    "print(partitions)\n",
    "society = []\n",
    "for idx in range(len(partitions)):\n",
    "    society.append(partitions.subgraph(idx))"
   ]
  },
  {
   "cell_type": "markdown",
   "metadata": {},
   "source": [
    "# Rank users in societies"
   ]
  },
  {
   "cell_type": "code",
   "execution_count": 92,
   "metadata": {},
   "outputs": [],
   "source": [
    "import numpy as np\n",
    "from scipy.sparse import csc_matrix\n",
    "\n",
    "def page_rank(graph, s=0.86, maxerr=0.001):\n",
    "    \"\"\"\n",
    "    Page Rank algorithm for numpy adjacent matrix.\n",
    "    \n",
    "    \n",
    "    \"\"\"\n",
    "    n = graph.shape[0]\n",
    "\n",
    "    A = csc_matrix(graph,dtype=np.float)\n",
    "    rsums = np.array(A.sum(1))[:,0]\n",
    "    ri, ci = A.nonzero()\n",
    "    A.data /= rsums[ri]\n",
    "\n",
    "    sink = (rsums == 0)\n",
    "\n",
    "    ro, r = np.zeros(n), np.ones(n)\n",
    "    while np.sum(np.abs(r-ro)) > maxerr:\n",
    "        ro = r.copy()\n",
    "        # calculate each pagerank at a time\n",
    "        for i in range(0,n):\n",
    "            # inlinks of state i\n",
    "            Ai = np.array(A[:,i].todense())[:,0]\n",
    "            # account for sink states\n",
    "            Di = sink / float(n)\n",
    "            # account for teleportation to state i\n",
    "            Ei = np.ones(n) / float(n)\n",
    "\n",
    "            r[i] = ro.dot( Ai*s + Di*s + Ei*(1-s) )\n",
    "\n",
    "    # return normalized pagerank\n",
    "    return r/float(sum(r))\n",
    "\n",
    "def label_members(vs, ranks, k=0.2):\n",
    "    \"\"\"\n",
    "    Label members from `vs' using `ranks' with accuracy `k'\n",
    "    \n",
    "    We get maximum values from ranks and label the accurate winners as \"leaders\".\n",
    "    The accurate loosers are \"followers\".\n",
    "    All the other are \"agents\".\n",
    "    \"\"\"\n",
    "    max_val = ranks[0]\n",
    "    min_val = ranks[0]\n",
    "    max_idx = min_idx = 0\n",
    "    nodes = {}\n",
    "    for idx, val in enumerate(ranks): \n",
    "        max_val = max(val, max_val)\n",
    "        if max_val == val: max_idx = idx\n",
    "        min_val = min(val, min_val)\n",
    "        if min_val == val: min_idx = idx\n",
    "        nodes[vs[idx]] = val\n",
    "           \n",
    "    difference = (max_val - min_val) * k\n",
    "    \n",
    "    labels = {}\n",
    "    for node, rnk in nodes.items():\n",
    "        if rnk >= max_val - difference:\n",
    "            labels[node['name']] = 'leader'\n",
    "        elif rnk <= min_val + difference:\n",
    "            labels[node['name']] = 'follower'\n",
    "        else:\n",
    "            labels[node['name']] = 'agent'\n",
    "            \n",
    "    return labels\n",
    "\n",
    "LABELED_ITEMS = {}\n",
    "for (idx, cluster) in enumerate(society):\n",
    "    adj = list(cluster.get_adjacency())\n",
    "    ranks = page_rank(np.array(adj), s=0.95)\n",
    "    labels = label_members(cluster.vs, ranks, k=0.2) # less is not relevant, more is too common for this dataset\n",
    "    #print(dir(cluster))\n",
    "    LABELED_ITEMS[idx] = {\n",
    "        'labels': {},\n",
    "        'edges': list(map(lambda edge: (cluster.vs[edge[0]]['name'], cluster.vs[edge[1]]['name']),\n",
    "                          cluster.get_edgelist())),\n",
    "    }\n",
    "    for person, label in labels.items():\n",
    "        LABELED_ITEMS[idx]['labels'][person] = label"
   ]
  },
  {
   "cell_type": "markdown",
   "metadata": {},
   "source": [
    "# Plotting"
   ]
  },
  {
   "cell_type": "code",
   "execution_count": 93,
   "metadata": {},
   "outputs": [
    {
     "data": {
      "image/png": "[encoded data removed]",
      "text/plain": [
       "<Figure size 432x288 with 1 Axes>"
      ]
     },
     "metadata": {},
     "output_type": "display_data"
    },
    {
     "data": {
      "text/plain": [
       "<Figure size 1440x1440 with 0 Axes>"
      ]
     },
     "metadata": {},
     "output_type": "display_data"
    }
   ],
   "source": [
    "import networkx as nx\n",
    "import matplotlib.pyplot as plt\n",
    "import random\n",
    "\n",
    "def rand_color(seed=90):\n",
    "    random.seed(seed)\n",
    "    r = lambda: random.randint(0,255)\n",
    "    return '#%02X%02X%02X' % (r(),r(),r())\n",
    "\n",
    "G = nx.Graph()\n",
    "\n",
    "names = list(NAMES)\n",
    "for v in NAMES:\n",
    "    G.add_node(names.index(v))\n",
    "\n",
    "pos = nx.spring_layout(G)\n",
    "\n",
    "for idx, items in LABELED_ITEMS.items():\n",
    "    # add edges\n",
    "    color = rand_color(idx**3)\n",
    "    G.add_edges_from(list(map(lambda it: (names.index(it[0]),names.index(it[1])), items['edges'])))\n",
    "\n",
    "    \n",
    "    nx.draw_networkx_edges(G,\n",
    "                           edgelist=list(map(lambda it: (names.index(it[0]),names.index(it[1])), items['edges'])),\n",
    "                           pos=pos,\n",
    "                           edge_color=color)\n",
    "    \n",
    "    nx.draw_networkx_nodes(G, \n",
    "                           pos, \n",
    "                           nodelist=[names.index(v) for v in items['labels'].keys()], \n",
    "                           node_color=color)\n",
    "    \n",
    "    nx.draw_networkx_labels(G, \n",
    "                            pos=pos,\n",
    "                            labels={names.index(k): k+'\\n'+v for k, v in items['labels'].items()},\n",
    "                            node_color=color, \n",
    "                            font_size=13,\n",
    "                            node_size=5000)\n",
    "\n",
    "#print(list(map(lambda v: v['edges'], LABELED_ITEMS.values())))\n",
    "gray_edges = []\n",
    "labeled = list(map(lambda v: v['edges'], LABELED_ITEMS.values()))\n",
    "all_labeled = [x for y in labeled for x in y]\n",
    "for edge in EDGES:\n",
    "    if not edge in all_labeled:\n",
    "        gray_edges.append(edge)\n",
    "\n",
    "#print(gray_edges)\n",
    "nx.draw_networkx_edges(G,\n",
    "                       edgelist=list(map(lambda it: (names.index(it[0]),names.index(it[1])), gray_edges)),\n",
    "                       pos=pos,\n",
    "                       alpha=0.5,\n",
    "                       edge_color='#dddddd')\n",
    "    \n",
    "\n",
    "plt.figure(figsize=(20, 20))\n",
    "plt.show()"
   ]
  },
  {
   "cell_type": "markdown",
   "metadata": {},
   "source": [
    "# Writing to file"
   ]
  },
  {
   "cell_type": "code",
   "execution_count": 94,
   "metadata": {},
   "outputs": [
    {
     "name": "stdout",
     "output_type": "stream",
     "text": [
      "Done!\n"
     ]
    }
   ],
   "source": [
    "with open('out.csv', mode='w') as out_file:\n",
    "    writer = csv.writer(out_file, delimiter=',', quotechar='\"', quoting=csv.QUOTE_MINIMAL)\n",
    "    writer.writerow(['User', 'Community_ID', 'User_type'])\n",
    "    for group, items in LABELED_ITEMS.items():\n",
    "        for name, role in items['labels'].items():\n",
    "            writer.writerow([name, group, role])\n",
    "print('Done!')"
   ]
  }
 ],
 "metadata": {
  "kernelspec": {
   "display_name": "Python 3",
   "language": "python",
   "name": "python3"
  },
  "language_info": {
   "codemirror_mode": {
    "name": "ipython",
    "version": 3
   },
   "file_extension": ".py",
   "mimetype": "text/x-python",
   "name": "python",
   "nbconvert_exporter": "python",
   "pygments_lexer": "ipython3",
   "version": "3.7.3"
  }
 },
 "nbformat": 4,
 "nbformat_minor": 2
}
