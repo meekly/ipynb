{
 "cells": [
  {
   "cell_type": "markdown",
   "metadata": {},
   "source": [
    "# Reading CSV data"
   ]
  },
  {
   "cell_type": "code",
   "execution_count": 38,
   "metadata": {},
   "outputs": [],
   "source": [
    "import csv\n",
    "EDGES = []\n",
    "with open('vk_links.csv') as csv_file:\n",
    "    reader = csv.reader(csv_file)\n",
    "    skip_first = 1\n",
    "    for row in reader:\n",
    "        if skip_first == 1:\n",
    "            skip_first = 0\n",
    "            continue\n",
    "        EDGES.append((row[0],row[1]))\n",
    "    \n",
    "# Getting unique names\n",
    "NAMES = set([x for t in EDGES for x in t])"
   ]
  },
  {
   "cell_type": "code",
   "execution_count": 34,
   "metadata": {},
   "outputs": [
    {
     "name": "stdout",
     "output_type": "stream",
     "text": [
      "[('ivan', 'nina'), ('nina', 'olga'), ('olga', 'ivan'), ('ivan', 'petr'), ('petr', 'nina'), ('petr', 'olga'), ('pavel', 'nikita'), ('nikita', 'dasha'), ('dasha', 'pavel'), ('pavel', 'nina'), ('pavel', 'masha'), ('masha', 'petr'), ('masha', 'dasha'), ('dasha', 'ivan')]\n",
      "{'pavel', 'petr', 'ivan', 'dasha', 'nina', 'masha', 'nikita', 'olga'}\n"
     ]
    }
   ],
   "source": [
    "print(GRAPH_DATA)\n",
    "print(NAMES)"
   ]
  },
  {
   "cell_type": "markdown",
   "metadata": {},
   "source": [
    "# Start building graph"
   ]
  },
  {
   "cell_type": "code",
   "execution_count": 35,
   "metadata": {},
   "outputs": [
    {
     "name": "stdout",
     "output_type": "stream",
     "text": [
      "Clustering with 8 elements and 2 clusters\n",
      "[0] ivan, nina, olga, petr\n",
      "[1] pavel, nikita, dasha, masha\n"
     ]
    }
   ],
   "source": [
    "import louvain      # pacaur -S igraph && sudo pip3 install louvain\n",
    "import igraph as ig\n",
    "\n",
    "# Creating igraph based on our data\n",
    "graph = ig.Graph()\n",
    "\n",
    "# Adding vertices\n",
    "for key in NAMES:\n",
    "    graph.add_vertices(key)\n",
    "    \n",
    "# Adding edges\n",
    "graph.add_edges(GRAPH_DATA)\n",
    "\n",
    "# Clustering data\n",
    "partitions = louvain.find_partition(graph, louvain.ModularityVertexPartition)\n",
    "print(partitions)"
   ]
  },
  {
   "cell_type": "code",
   "execution_count": null,
   "metadata": {},
   "outputs": [],
   "source": []
  }
 ],
 "metadata": {
  "kernelspec": {
   "display_name": "Python 3",
   "language": "python",
   "name": "python3"
  },
  "language_info": {
   "codemirror_mode": {
    "name": "ipython",
    "version": 3
   },
   "file_extension": ".py",
   "mimetype": "text/x-python",
   "name": "python",
   "nbconvert_exporter": "python",
   "pygments_lexer": "ipython3",
   "version": "3.7.3"
  }
 },
 "nbformat": 4,
 "nbformat_minor": 2
}
