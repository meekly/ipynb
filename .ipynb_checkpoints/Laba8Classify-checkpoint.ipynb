{
 "cells": [
  {
   "cell_type": "markdown",
   "metadata": {},
   "source": [
    "# Importing base libraries"
   ]
  },
  {
   "cell_type": "code",
   "execution_count": 84,
   "metadata": {},
   "outputs": [
    {
     "name": "stdout",
     "output_type": "stream",
     "text": [
      "Populating the interactive namespace from numpy and matplotlib\n"
     ]
    },
    {
     "name": "stderr",
     "output_type": "stream",
     "text": [
      "/usr/lib/python3.7/site-packages/IPython/core/magics/pylab.py:160: UserWarning: pylab import has clobbered these variables: ['test']\n",
      "`%matplotlib` prevents importing * from pylab and numpy\n",
      "  \"\\n`%matplotlib` prevents importing * from pylab and numpy\"\n"
     ]
    }
   ],
   "source": [
    "# Preparing and importing everything we need in this lab\n",
    "from scipy.io import arff\n",
    "import pandas as pd\n",
    "import itertools\n",
    "\n",
    "%pylab inline"
   ]
  },
  {
   "cell_type": "markdown",
   "metadata": {},
   "source": [
    "# Preparing data"
   ]
  },
  {
   "cell_type": "markdown",
   "metadata": {},
   "source": [
    "## Loading ARFF "
   ]
  },
  {
   "cell_type": "code",
   "execution_count": 169,
   "metadata": {},
   "outputs": [
    {
     "name": "stdout",
     "output_type": "stream",
     "text": [
      "    handicapped-infants water-project-cost-sharing  \\\n",
      "222              b\"'y'\"                     b\"'n'\"   \n",
      "175              b\"'n'\"                     b\"'y'\"   \n",
      "367              b\"'y'\"                     b\"'y'\"   \n",
      "162              b\"'n'\"                     b\"'y'\"   \n",
      "284              b\"'n'\"                     b\"'n'\"   \n",
      "403              b\"'n'\"                     b\"'y'\"   \n",
      "101              b\"'y'\"                     b\"'n'\"   \n",
      "171              b\"'n'\"                       b'?'   \n",
      "249              b\"'y'\"                     b\"'n'\"   \n",
      "146              b\"'n'\"                     b\"'y'\"   \n",
      "186              b\"'n'\"                     b\"'y'\"   \n",
      "58               b\"'n'\"                     b\"'y'\"   \n",
      "434              b\"'n'\"                     b\"'y'\"   \n",
      "127              b\"'n'\"                       b'?'   \n",
      "302              b\"'n'\"                     b\"'n'\"   \n",
      "174              b\"'y'\"                       b'?'   \n",
      "194              b\"'n'\"                     b\"'n'\"   \n",
      "357              b\"'n'\"                     b\"'n'\"   \n",
      "212              b\"'n'\"                     b\"'n'\"   \n",
      "237              b\"'y'\"                     b\"'n'\"   \n",
      "372              b\"'n'\"                     b\"'y'\"   \n",
      "329              b\"'y'\"                       b'?'   \n",
      "261              b\"'y'\"                     b\"'n'\"   \n",
      "209              b\"'y'\"                     b\"'y'\"   \n",
      "404              b\"'y'\"                     b\"'y'\"   \n",
      "32               b\"'y'\"                     b\"'y'\"   \n",
      "331              b\"'y'\"                       b'?'   \n",
      "254              b\"'y'\"                     b\"'n'\"   \n",
      "183                b'?'                       b'?'   \n",
      "323              b\"'y'\"                     b\"'y'\"   \n",
      "..                  ...                        ...   \n",
      "241              b\"'y'\"                     b\"'n'\"   \n",
      "430              b\"'n'\"                     b\"'n'\"   \n",
      "231              b\"'n'\"                     b\"'y'\"   \n",
      "44               b\"'y'\"                     b\"'y'\"   \n",
      "109              b\"'y'\"                       b'?'   \n",
      "286              b\"'n'\"                     b\"'n'\"   \n",
      "176              b\"'n'\"                     b\"'n'\"   \n",
      "119              b\"'n'\"                     b\"'n'\"   \n",
      "12               b\"'n'\"                     b\"'y'\"   \n",
      "423              b\"'n'\"                     b\"'y'\"   \n",
      "315              b\"'n'\"                     b\"'y'\"   \n",
      "13               b\"'y'\"                     b\"'y'\"   \n",
      "299              b\"'n'\"                     b\"'y'\"   \n",
      "112              b\"'n'\"                       b'?'   \n",
      "399              b\"'n'\"                     b\"'y'\"   \n",
      "413              b\"'y'\"                     b\"'y'\"   \n",
      "433              b\"'n'\"                     b\"'n'\"   \n",
      "94               b\"'y'\"                     b\"'n'\"   \n",
      "342              b\"'n'\"                     b\"'y'\"   \n",
      "387              b\"'y'\"                     b\"'y'\"   \n",
      "34               b\"'y'\"                     b\"'y'\"   \n",
      "232              b\"'n'\"                     b\"'y'\"   \n",
      "304              b\"'n'\"                     b\"'y'\"   \n",
      "384              b\"'y'\"                     b\"'y'\"   \n",
      "120              b\"'n'\"                       b'?'   \n",
      "330              b\"'n'\"                     b\"'y'\"   \n",
      "137              b\"'n'\"                       b'?'   \n",
      "199              b\"'y'\"                     b\"'y'\"   \n",
      "236              b\"'n'\"                     b\"'n'\"   \n",
      "313              b\"'n'\"                     b\"'y'\"   \n",
      "\n",
      "    adoption-of-the-budget-resolution physician-fee-freeze el-salvador-aid  \\\n",
      "222                            b\"'y'\"               b\"'n'\"          b\"'n'\"   \n",
      "175                            b\"'y'\"               b\"'n'\"          b\"'n'\"   \n",
      "367                            b\"'y'\"               b\"'n'\"          b\"'y'\"   \n",
      "162                            b\"'y'\"               b\"'n'\"          b\"'y'\"   \n",
      "284                            b\"'y'\"               b\"'n'\"          b\"'n'\"   \n",
      "403                            b\"'n'\"               b\"'y'\"          b\"'y'\"   \n",
      "101                            b\"'y'\"               b\"'n'\"          b\"'y'\"   \n",
      "171                            b\"'n'\"               b\"'y'\"          b\"'y'\"   \n",
      "249                            b\"'y'\"               b\"'n'\"          b\"'n'\"   \n",
      "146                            b\"'n'\"               b\"'y'\"          b\"'y'\"   \n",
      "186                            b\"'y'\"               b\"'n'\"          b\"'n'\"   \n",
      "58                             b\"'n'\"               b\"'y'\"          b\"'y'\"   \n",
      "434                            b\"'n'\"               b\"'y'\"          b\"'y'\"   \n",
      "127                            b\"'y'\"               b\"'n'\"          b\"'n'\"   \n",
      "302                            b\"'n'\"               b\"'y'\"          b\"'y'\"   \n",
      "174                            b\"'y'\"               b\"'n'\"          b\"'n'\"   \n",
      "194                            b\"'y'\"               b\"'n'\"          b\"'n'\"   \n",
      "357                            b\"'n'\"               b\"'y'\"          b\"'y'\"   \n",
      "212                            b\"'y'\"               b\"'n'\"          b\"'n'\"   \n",
      "237                            b\"'y'\"               b\"'n'\"          b\"'n'\"   \n",
      "372                            b\"'y'\"               b\"'y'\"          b\"'y'\"   \n",
      "329                            b\"'y'\"               b\"'n'\"          b\"'n'\"   \n",
      "261                            b\"'y'\"               b\"'n'\"          b\"'n'\"   \n",
      "209                            b\"'y'\"               b\"'n'\"          b\"'n'\"   \n",
      "404                            b\"'n'\"               b\"'y'\"          b\"'y'\"   \n",
      "32                             b\"'y'\"               b\"'n'\"          b\"'n'\"   \n",
      "331                            b\"'y'\"               b\"'n'\"          b\"'n'\"   \n",
      "254                            b\"'y'\"               b\"'n'\"          b\"'n'\"   \n",
      "183                              b'?'                 b'?'            b'?'   \n",
      "323                            b\"'y'\"               b\"'n'\"          b\"'y'\"   \n",
      "..                                ...                  ...             ...   \n",
      "241                            b\"'y'\"               b\"'n'\"          b\"'n'\"   \n",
      "430                            b\"'y'\"               b\"'y'\"          b\"'y'\"   \n",
      "231                            b\"'n'\"               b\"'y'\"          b\"'y'\"   \n",
      "44                             b\"'y'\"               b\"'n'\"          b\"'n'\"   \n",
      "109                            b\"'y'\"               b\"'n'\"          b\"'n'\"   \n",
      "286                            b\"'y'\"               b\"'n'\"          b\"'n'\"   \n",
      "176                            b\"'y'\"               b\"'y'\"          b\"'n'\"   \n",
      "119                            b\"'n'\"               b\"'y'\"          b\"'y'\"   \n",
      "12                             b\"'y'\"               b\"'n'\"          b\"'n'\"   \n",
      "423                            b\"'y'\"               b\"'n'\"          b\"'n'\"   \n",
      "315                            b\"'y'\"               b\"'y'\"          b\"'y'\"   \n",
      "13                             b\"'y'\"               b\"'n'\"          b\"'n'\"   \n",
      "299                            b\"'y'\"               b\"'n'\"          b\"'n'\"   \n",
      "112                            b\"'y'\"               b\"'n'\"          b\"'n'\"   \n",
      "399                            b\"'n'\"               b\"'y'\"            b'?'   \n",
      "413                            b\"'y'\"               b\"'y'\"          b\"'y'\"   \n",
      "433                            b\"'n'\"               b\"'y'\"          b\"'y'\"   \n",
      "94                             b\"'y'\"               b\"'n'\"          b\"'y'\"   \n",
      "342                            b\"'y'\"               b\"'n'\"          b\"'y'\"   \n",
      "387                            b\"'y'\"               b\"'n'\"          b\"'y'\"   \n",
      "34                             b\"'y'\"               b\"'n'\"          b\"'n'\"   \n",
      "232                            b\"'y'\"               b\"'n'\"          b\"'n'\"   \n",
      "304                            b\"'n'\"               b\"'y'\"          b\"'y'\"   \n",
      "384                            b\"'y'\"               b\"'y'\"          b\"'y'\"   \n",
      "120                              b'?'               b\"'y'\"          b\"'y'\"   \n",
      "330                            b\"'n'\"               b\"'y'\"          b\"'y'\"   \n",
      "137                            b\"'y'\"               b\"'n'\"          b\"'n'\"   \n",
      "199                            b\"'n'\"               b\"'n'\"          b\"'n'\"   \n",
      "236                            b\"'y'\"               b\"'n'\"          b\"'n'\"   \n",
      "313                            b\"'y'\"               b\"'y'\"          b\"'y'\"   \n",
      "\n",
      "    religious-groups-in-schools anti-satellite-test-ban  \\\n",
      "222                      b\"'n'\"                  b\"'y'\"   \n",
      "175                      b\"'n'\"                  b\"'y'\"   \n",
      "367                      b\"'y'\"                  b\"'y'\"   \n",
      "162                      b\"'y'\"                  b\"'y'\"   \n",
      "284                      b\"'y'\"                  b\"'y'\"   \n",
      "403                      b\"'y'\"                  b\"'n'\"   \n",
      "101                      b\"'y'\"                  b\"'y'\"   \n",
      "171                      b\"'y'\"                  b\"'n'\"   \n",
      "249                      b\"'n'\"                  b\"'y'\"   \n",
      "146                      b\"'y'\"                  b\"'n'\"   \n",
      "186                      b\"'n'\"                  b\"'y'\"   \n",
      "58                       b\"'y'\"                  b\"'n'\"   \n",
      "434                      b\"'y'\"                  b\"'n'\"   \n",
      "127                      b\"'n'\"                  b\"'y'\"   \n",
      "302                      b\"'y'\"                  b\"'y'\"   \n",
      "174                      b\"'n'\"                  b\"'y'\"   \n",
      "194                      b\"'y'\"                  b\"'y'\"   \n",
      "357                      b\"'y'\"                  b\"'n'\"   \n",
      "212                      b\"'n'\"                  b\"'y'\"   \n",
      "237                      b\"'y'\"                  b\"'y'\"   \n",
      "372                      b\"'y'\"                  b\"'n'\"   \n",
      "329                      b\"'y'\"                  b\"'y'\"   \n",
      "261                        b'?'                  b\"'y'\"   \n",
      "209                      b\"'n'\"                  b\"'y'\"   \n",
      "404                      b\"'y'\"                  b\"'n'\"   \n",
      "32                       b\"'n'\"                  b\"'y'\"   \n",
      "331                      b\"'n'\"                  b\"'y'\"   \n",
      "254                      b\"'n'\"                  b\"'y'\"   \n",
      "183                        b'?'                    b'?'   \n",
      "323                      b\"'y'\"                  b\"'n'\"   \n",
      "..                          ...                     ...   \n",
      "241                      b\"'n'\"                  b\"'y'\"   \n",
      "430                      b\"'y'\"                  b\"'n'\"   \n",
      "231                      b\"'y'\"                  b\"'n'\"   \n",
      "44                       b\"'n'\"                  b\"'y'\"   \n",
      "109                      b\"'n'\"                  b\"'y'\"   \n",
      "286                      b\"'y'\"                    b'?'   \n",
      "176                      b\"'n'\"                  b\"'y'\"   \n",
      "119                      b\"'y'\"                  b\"'n'\"   \n",
      "12                       b\"'n'\"                  b\"'y'\"   \n",
      "423                      b\"'y'\"                  b\"'y'\"   \n",
      "315                      b\"'y'\"                  b\"'y'\"   \n",
      "13                       b\"'y'\"                  b\"'y'\"   \n",
      "299                      b\"'y'\"                  b\"'y'\"   \n",
      "112                      b\"'y'\"                  b\"'y'\"   \n",
      "399                      b\"'y'\"                  b\"'n'\"   \n",
      "413                      b\"'y'\"                  b\"'y'\"   \n",
      "433                      b\"'y'\"                    b'?'   \n",
      "94                       b\"'y'\"                  b\"'n'\"   \n",
      "342                        b'?'                  b\"'y'\"   \n",
      "387                      b\"'y'\"                  b\"'n'\"   \n",
      "34                       b\"'n'\"                  b\"'y'\"   \n",
      "232                      b\"'n'\"                  b\"'y'\"   \n",
      "304                      b\"'y'\"                  b\"'n'\"   \n",
      "384                      b\"'y'\"                  b\"'n'\"   \n",
      "120                      b\"'y'\"                  b\"'n'\"   \n",
      "330                      b\"'y'\"                  b\"'n'\"   \n",
      "137                      b\"'y'\"                  b\"'y'\"   \n",
      "199                      b\"'n'\"                  b\"'y'\"   \n",
      "236                      b\"'n'\"                  b\"'y'\"   \n",
      "313                      b\"'y'\"                  b\"'n'\"   \n",
      "\n",
      "    aid-to-nicaraguan-contras mx-missile immigration  \\\n",
      "222                    b\"'y'\"     b\"'y'\"      b\"'n'\"   \n",
      "175                    b\"'y'\"     b\"'y'\"      b\"'y'\"   \n",
      "367                    b\"'y'\"     b\"'n'\"      b\"'y'\"   \n",
      "162                    b\"'n'\"     b\"'n'\"      b\"'n'\"   \n",
      "284                    b\"'y'\"     b\"'y'\"      b\"'y'\"   \n",
      "403                    b\"'n'\"     b\"'n'\"      b\"'y'\"   \n",
      "101                    b\"'n'\"     b\"'n'\"      b\"'n'\"   \n",
      "171                    b\"'n'\"     b\"'n'\"      b\"'y'\"   \n",
      "249                    b\"'y'\"       b'?'      b\"'n'\"   \n",
      "146                    b\"'n'\"     b\"'n'\"      b\"'n'\"   \n",
      "186                    b\"'y'\"     b\"'y'\"      b\"'y'\"   \n",
      "58                     b\"'n'\"     b\"'n'\"      b\"'y'\"   \n",
      "434                    b\"'n'\"     b\"'n'\"      b\"'y'\"   \n",
      "127                    b\"'y'\"     b\"'y'\"      b\"'y'\"   \n",
      "302                    b\"'n'\"     b\"'n'\"      b\"'y'\"   \n",
      "174                    b\"'y'\"     b\"'y'\"      b\"'n'\"   \n",
      "194                      b'?'     b\"'y'\"      b\"'y'\"   \n",
      "357                    b\"'n'\"     b\"'n'\"      b\"'n'\"   \n",
      "212                    b\"'y'\"     b\"'y'\"      b\"'n'\"   \n",
      "237                    b\"'y'\"     b\"'n'\"      b\"'n'\"   \n",
      "372                    b\"'n'\"     b\"'n'\"      b\"'n'\"   \n",
      "329                    b\"'y'\"     b\"'y'\"      b\"'y'\"   \n",
      "261                    b\"'y'\"     b\"'y'\"      b\"'n'\"   \n",
      "209                    b\"'y'\"     b\"'y'\"      b\"'y'\"   \n",
      "404                    b\"'n'\"     b\"'n'\"      b\"'y'\"   \n",
      "32                     b\"'y'\"     b\"'y'\"      b\"'y'\"   \n",
      "331                    b\"'y'\"     b\"'y'\"      b\"'n'\"   \n",
      "254                    b\"'y'\"     b\"'y'\"      b\"'y'\"   \n",
      "183                      b'?'     b\"'y'\"        b'?'   \n",
      "323                    b\"'y'\"       b'?'      b\"'y'\"   \n",
      "..                        ...        ...         ...   \n",
      "241                    b\"'y'\"     b\"'y'\"      b\"'y'\"   \n",
      "430                    b\"'n'\"     b\"'y'\"      b\"'y'\"   \n",
      "231                    b\"'n'\"     b\"'y'\"      b\"'y'\"   \n",
      "44                     b\"'y'\"     b\"'y'\"      b\"'n'\"   \n",
      "109                    b\"'y'\"     b\"'y'\"      b\"'n'\"   \n",
      "286                    b\"'y'\"       b'?'      b\"'y'\"   \n",
      "176                    b\"'y'\"     b\"'y'\"      b\"'y'\"   \n",
      "119                    b\"'n'\"     b\"'n'\"      b\"'n'\"   \n",
      "12                     b\"'y'\"     b\"'y'\"      b\"'n'\"   \n",
      "423                    b\"'y'\"     b\"'y'\"      b\"'n'\"   \n",
      "315                      b'?'     b\"'n'\"      b\"'n'\"   \n",
      "13                     b\"'y'\"       b'?'      b\"'y'\"   \n",
      "299                    b\"'y'\"     b\"'y'\"      b\"'y'\"   \n",
      "112                    b\"'y'\"     b\"'n'\"      b\"'y'\"   \n",
      "399                    b\"'n'\"     b\"'n'\"      b\"'y'\"   \n",
      "413                    b\"'y'\"     b\"'n'\"      b\"'y'\"   \n",
      "433                      b'?'       b'?'        b'?'   \n",
      "94                     b\"'n'\"     b\"'n'\"      b\"'n'\"   \n",
      "342                    b\"'n'\"     b\"'n'\"      b\"'y'\"   \n",
      "387                    b\"'y'\"     b\"'y'\"      b\"'n'\"   \n",
      "34                     b\"'y'\"     b\"'y'\"      b\"'n'\"   \n",
      "232                    b\"'y'\"     b\"'n'\"      b\"'n'\"   \n",
      "304                    b\"'n'\"     b\"'n'\"      b\"'y'\"   \n",
      "384                    b\"'n'\"     b\"'n'\"      b\"'n'\"   \n",
      "120                    b\"'n'\"     b\"'n'\"      b\"'y'\"   \n",
      "330                    b\"'n'\"     b\"'n'\"      b\"'y'\"   \n",
      "137                    b\"'y'\"     b\"'y'\"      b\"'y'\"   \n",
      "199                    b\"'y'\"       b'?'      b\"'n'\"   \n",
      "236                    b\"'y'\"     b\"'y'\"      b\"'n'\"   \n",
      "313                    b\"'n'\"     b\"'n'\"      b\"'y'\"   \n",
      "\n",
      "    synfuels-corporation-cutback education-spending superfund-right-to-sue  \\\n",
      "222                       b\"'y'\"             b\"'n'\"                 b\"'n'\"   \n",
      "175                       b\"'n'\"             b\"'n'\"                 b\"'n'\"   \n",
      "367                       b\"'y'\"             b\"'n'\"                 b\"'n'\"   \n",
      "162                       b\"'y'\"             b\"'y'\"                 b\"'y'\"   \n",
      "284                       b\"'y'\"             b\"'n'\"                 b\"'n'\"   \n",
      "403                       b\"'n'\"             b\"'y'\"                   b'?'   \n",
      "101                       b\"'y'\"             b\"'n'\"                 b\"'n'\"   \n",
      "171                       b\"'n'\"             b\"'y'\"                 b\"'y'\"   \n",
      "249                       b\"'y'\"             b\"'n'\"                 b\"'n'\"   \n",
      "146                       b\"'n'\"             b\"'y'\"                 b\"'y'\"   \n",
      "186                       b\"'y'\"             b\"'n'\"                 b\"'n'\"   \n",
      "58                        b\"'n'\"             b\"'y'\"                 b\"'y'\"   \n",
      "434                       b\"'n'\"             b\"'y'\"                 b\"'y'\"   \n",
      "127                       b\"'y'\"             b\"'n'\"                 b\"'n'\"   \n",
      "302                       b\"'n'\"             b\"'y'\"                 b\"'y'\"   \n",
      "174                       b\"'n'\"             b\"'n'\"                 b\"'n'\"   \n",
      "194                       b\"'y'\"             b\"'n'\"                 b\"'n'\"   \n",
      "357                       b\"'n'\"             b\"'y'\"                 b\"'y'\"   \n",
      "212                       b\"'y'\"             b\"'n'\"                 b\"'n'\"   \n",
      "237                       b\"'n'\"             b\"'y'\"                 b\"'y'\"   \n",
      "372                       b\"'y'\"             b\"'y'\"                   b'?'   \n",
      "329                       b\"'n'\"             b\"'n'\"                 b\"'n'\"   \n",
      "261                         b'?'               b'?'                 b\"'n'\"   \n",
      "209                       b\"'y'\"             b\"'n'\"                 b\"'n'\"   \n",
      "404                       b\"'n'\"             b\"'y'\"                 b\"'y'\"   \n",
      "32                        b\"'n'\"             b\"'n'\"                 b\"'y'\"   \n",
      "331                       b\"'n'\"             b\"'n'\"                 b\"'n'\"   \n",
      "254                       b\"'n'\"             b\"'n'\"                 b\"'n'\"   \n",
      "183                         b'?'               b'?'                   b'?'   \n",
      "323                       b\"'n'\"             b\"'n'\"                 b\"'y'\"   \n",
      "..                           ...                ...                    ...   \n",
      "241                       b\"'y'\"             b\"'n'\"                 b\"'n'\"   \n",
      "430                       b\"'n'\"             b\"'y'\"                 b\"'y'\"   \n",
      "231                       b\"'n'\"             b\"'y'\"                 b\"'y'\"   \n",
      "44                        b\"'y'\"             b\"'n'\"                 b\"'n'\"   \n",
      "109                       b\"'n'\"             b\"'n'\"                 b\"'n'\"   \n",
      "286                       b\"'y'\"             b\"'y'\"                 b\"'n'\"   \n",
      "176                       b\"'n'\"             b\"'n'\"                 b\"'n'\"   \n",
      "119                       b\"'n'\"             b\"'y'\"                 b\"'y'\"   \n",
      "12                        b\"'n'\"             b\"'n'\"                 b\"'y'\"   \n",
      "423                       b\"'y'\"             b\"'n'\"                 b\"'n'\"   \n",
      "315                       b\"'n'\"             b\"'n'\"                   b'?'   \n",
      "13                        b\"'y'\"               b'?'                 b\"'n'\"   \n",
      "299                       b\"'n'\"             b\"'n'\"                 b\"'y'\"   \n",
      "112                       b\"'n'\"             b\"'n'\"                 b\"'n'\"   \n",
      "399                       b\"'n'\"             b\"'y'\"                 b\"'y'\"   \n",
      "413                         b'?'               b'?'                   b'?'   \n",
      "433                       b\"'n'\"             b\"'y'\"                 b\"'y'\"   \n",
      "94                        b\"'n'\"             b\"'n'\"                 b\"'n'\"   \n",
      "342                       b\"'y'\"             b\"'n'\"                 b\"'y'\"   \n",
      "387                       b\"'y'\"             b\"'n'\"                 b\"'n'\"   \n",
      "34                        b\"'n'\"             b\"'n'\"                 b\"'n'\"   \n",
      "232                       b\"'y'\"             b\"'n'\"                 b\"'n'\"   \n",
      "304                       b\"'n'\"             b\"'y'\"                 b\"'y'\"   \n",
      "384                       b\"'y'\"             b\"'y'\"                 b\"'y'\"   \n",
      "120                       b\"'n'\"             b\"'y'\"                 b\"'y'\"   \n",
      "330                       b\"'n'\"             b\"'y'\"                 b\"'y'\"   \n",
      "137                       b\"'n'\"             b\"'n'\"                 b\"'n'\"   \n",
      "199                       b\"'y'\"             b\"'n'\"                 b\"'n'\"   \n",
      "236                       b\"'n'\"             b\"'n'\"                 b\"'n'\"   \n",
      "313                       b\"'n'\"             b\"'y'\"                 b\"'y'\"   \n",
      "\n",
      "      crime duty-free-exports export-administration-act-south-africa  \n",
      "222  b\"'n'\"            b\"'y'\"                                   b'?'  \n",
      "175  b\"'n'\"            b\"'y'\"                                 b\"'y'\"  \n",
      "367  b\"'n'\"            b\"'y'\"                                   b'?'  \n",
      "162  b\"'y'\"            b\"'n'\"                                 b\"'y'\"  \n",
      "284  b\"'n'\"              b'?'                                 b\"'y'\"  \n",
      "403  b\"'y'\"            b\"'n'\"                                 b\"'n'\"  \n",
      "101  b\"'y'\"            b\"'n'\"                                 b\"'y'\"  \n",
      "171  b\"'y'\"            b\"'n'\"                                 b\"'y'\"  \n",
      "249  b\"'n'\"            b\"'y'\"                                 b\"'y'\"  \n",
      "146  b\"'y'\"            b\"'n'\"                                 b\"'y'\"  \n",
      "186  b\"'n'\"            b\"'y'\"                                 b\"'y'\"  \n",
      "58   b\"'y'\"            b\"'n'\"                                 b\"'y'\"  \n",
      "434  b\"'y'\"              b'?'                                 b\"'n'\"  \n",
      "127  b\"'y'\"            b\"'y'\"                                 b\"'y'\"  \n",
      "302  b\"'y'\"            b\"'n'\"                                 b\"'y'\"  \n",
      "174  b\"'n'\"            b\"'y'\"                                   b'?'  \n",
      "194  b\"'n'\"            b\"'y'\"                                 b\"'y'\"  \n",
      "357  b\"'y'\"            b\"'n'\"                                 b\"'n'\"  \n",
      "212  b\"'n'\"            b\"'y'\"                                 b\"'y'\"  \n",
      "237  b\"'n'\"            b\"'n'\"                                 b\"'y'\"  \n",
      "372  b\"'y'\"            b\"'n'\"                                 b\"'n'\"  \n",
      "329  b\"'n'\"            b\"'y'\"                                   b'?'  \n",
      "261    b'?'              b'?'                                   b'?'  \n",
      "209  b\"'n'\"            b\"'n'\"                                 b\"'y'\"  \n",
      "404  b\"'y'\"            b\"'n'\"                                 b\"'y'\"  \n",
      "32   b\"'n'\"            b\"'y'\"                                 b\"'y'\"  \n",
      "331  b\"'n'\"            b\"'y'\"                                   b'?'  \n",
      "254  b\"'n'\"            b\"'n'\"                                 b\"'y'\"  \n",
      "183    b'?'              b'?'                                   b'?'  \n",
      "323  b\"'y'\"            b\"'n'\"                                   b'?'  \n",
      "..      ...               ...                                    ...  \n",
      "241  b\"'y'\"            b\"'y'\"                                 b\"'y'\"  \n",
      "430  b\"'y'\"            b\"'n'\"                                 b\"'y'\"  \n",
      "231  b\"'y'\"            b\"'n'\"                                 b\"'y'\"  \n",
      "44   b\"'n'\"            b\"'n'\"                                   b'?'  \n",
      "109  b\"'n'\"            b\"'y'\"                                   b'?'  \n",
      "286  b\"'y'\"            b\"'y'\"                                   b'?'  \n",
      "176  b\"'y'\"            b\"'y'\"                                 b\"'y'\"  \n",
      "119  b\"'y'\"            b\"'n'\"                                 b\"'n'\"  \n",
      "12   b\"'n'\"              b'?'                                   b'?'  \n",
      "423  b\"'y'\"            b\"'y'\"                                 b\"'y'\"  \n",
      "315    b'?'            b\"'y'\"                                   b'?'  \n",
      "13   b\"'n'\"            b\"'y'\"                                   b'?'  \n",
      "299  b\"'y'\"            b\"'y'\"                                 b\"'y'\"  \n",
      "112  b\"'n'\"            b\"'y'\"                                   b'?'  \n",
      "399  b\"'y'\"            b\"'n'\"                                 b\"'n'\"  \n",
      "413  b\"'y'\"            b\"'n'\"                                 b\"'y'\"  \n",
      "433  b\"'y'\"            b\"'n'\"                                 b\"'y'\"  \n",
      "94   b\"'n'\"            b\"'n'\"                                 b\"'y'\"  \n",
      "342  b\"'n'\"            b\"'y'\"                                 b\"'y'\"  \n",
      "387  b\"'y'\"            b\"'n'\"                                   b'?'  \n",
      "34   b\"'n'\"            b\"'y'\"                                 b\"'y'\"  \n",
      "232  b\"'n'\"            b\"'y'\"                                   b'?'  \n",
      "304  b\"'y'\"            b\"'n'\"                                   b'?'  \n",
      "384  b\"'y'\"            b\"'n'\"                                 b\"'y'\"  \n",
      "120  b\"'y'\"              b'?'                                 b\"'y'\"  \n",
      "330  b\"'y'\"            b\"'n'\"                                 b\"'n'\"  \n",
      "137  b\"'y'\"            b\"'y'\"                                 b\"'y'\"  \n",
      "199  b\"'n'\"            b\"'y'\"                                   b'?'  \n",
      "236  b\"'n'\"            b\"'y'\"                                 b\"'y'\"  \n",
      "313  b\"'y'\"            b\"'n'\"                                 b\"'y'\"  \n",
      "\n",
      "[291 rows x 16 columns]\n"
     ]
    }
   ],
   "source": [
    "# Data\n",
    "# Files are in the same folder as ipynb file\n",
    "FILES = {\n",
    "    'diabetes': {\n",
    "        'train':'diabetes.arff',\n",
    "    },\n",
    "    'vote': {\n",
    "        'train':'vote.arff',\n",
    "    },\n",
    "    'segment': {\n",
    "        'train': 'segment-challenge.arff',\n",
    "        'test': 'segment-test.arff',\n",
    "    },\n",
    "} \n",
    "\n",
    "DATA = {}\n",
    "for (name, files) in FILES.items():\n",
    "    DATA[name] = {}\n",
    "    DATA[name]['train'] = {}\n",
    "    DATA[name]['test'] = {}\n",
    "    \n",
    "    df = pd.DataFrame(arff.loadarff(files['train'])[0])\n",
    "    target = df['class'].astype('str')\n",
    "    all_data = df.drop(columns=['class'])\n",
    "    \n",
    "    if not 'test' in files:\n",
    "        train_data, test_data, train_labels, test_labels = \\\n",
    "            ms.train_test_split(all_data, target, test_size=0.33)\n",
    "    else:\n",
    "        test = pd.DataFrame(arff.loadarff(files['test'])[0])\n",
    "        train_data = all_data\n",
    "        test_data = test.drop(columns=['class'])\n",
    "        train_labels = target.astype('str')\n",
    "        test_labels = test['class'].astype('str')\n",
    "\n",
    "    DATA[name]['data'] = all_data\n",
    "    DATA[name]['target'] = target\n",
    "    DATA[name]['train']['data'] = train_data\n",
    "    DATA[name]['test']['data'] = test_data\n",
    "    DATA[name]['train']['labels'] = train_labels\n",
    "    DATA[name]['test']['labels'] = test_labels\n",
    "   \n",
    "vote = DATA['vote']['train']['data'].astype('category')\n",
    "cat_columns = vote.select_dtypes(['category']).columns\n",
    "for col in cat_columns:\n",
    "    vote[col] = pd.Categorical(vote[col]).codes\n",
    "print(vote)\n",
    "#print(dir(DATA['diabetes']['train']['labels']))"
   ]
  },
  {
   "cell_type": "markdown",
   "metadata": {},
   "source": [
    "## Helper for plot"
   ]
  },
  {
   "cell_type": "code",
   "execution_count": 86,
   "metadata": {},
   "outputs": [],
   "source": [
    "def plot_confusion_matrix(matrix, classes, normalize=False, title='Confusion matrix', cmap=plt.cm.Blues):\n",
    "    \"\"\"\n",
    "    This function prints and plots the confusion matrix.\n",
    "    \"\"\"\n",
    "    if normalize:\n",
    "        matrix = matrix.astype('float') / matrix.sum(axis=1)[:, np.newaxis]\n",
    "        print(\"Normalized confusion matrix\")\n",
    "    else:\n",
    "        print('Confusion matrix, without normalization')\n",
    "\n",
    "    pyplot.imshow(matrix, interpolation='nearest', cmap=cmap)\n",
    "    pyplot.title(title)\n",
    "    pyplot.colorbar()\n",
    "    tick_marks = np.arange(len(classes))\n",
    "    pyplot.xticks(tick_marks, classes, rotation=45)\n",
    "    pyplot.yticks(tick_marks, classes)\n",
    "\n",
    "    fmt = '.2f' if normalize else 'd'\n",
    "    thresh = matrix.max() / 2.\n",
    "    for i, j in itertools.product(range(matrix.shape[0]), range(matrix.shape[1])):\n",
    "        plt.text(j, i, format(matrix[i, j], fmt),\n",
    "        horizontalalignment=\"center\",\n",
    "        color=\"white\" if matrix[i, j] > thresh else \"black\")\n",
    "\n",
    "    pyplot.tight_layout()\n",
    "    pyplot.ylabel('True label')\n",
    "    pyplot.xlabel('Predicted label')\n",
    "    pyplot.show()\n",
    "    pyplot.clf()\n",
    "    pyplot.cla()\n",
    "    pyplot.close()"
   ]
  },
  {
   "cell_type": "markdown",
   "metadata": {},
   "source": [
    "## Tree printing function"
   ]
  },
  {
   "cell_type": "code",
   "execution_count": 87,
   "metadata": {},
   "outputs": [],
   "source": [
    "import graphviz # needs isntalling graphviz\n",
    "\n",
    "def print_tree(_tree):\n",
    "    print(\"Depth: {}\".format(_tree.tree_.max_depth))\n",
    "    dot_data = tree.export_graphviz(_tree, out_file=None)\n",
    "    graph = graphviz.Source(dot_data) \n",
    "    return graph"
   ]
  },
  {
   "cell_type": "markdown",
   "metadata": {},
   "source": [
    "## Classification report function"
   ]
  },
  {
   "cell_type": "code",
   "execution_count": 88,
   "metadata": {},
   "outputs": [],
   "source": [
    "def print_classification_report(labels, predictions, title='Diabetes testing train split tree'):\n",
    "    \"Prints the matrix and accuracy of predictions\"\n",
    "    accuracy = metrics.accuracy_score(labels, predictions)\n",
    "\n",
    "    print (\"Accuracy = {:.3f}\".format(accuracy))\n",
    "\n",
    "    print(metrics.classification_report(labels, predictions))\n",
    "\n",
    "    plot_confusion_matrix(metrics.confusion_matrix(labels, predictions), \n",
    "                          classes=labels.unique(), \n",
    "                          title=title)"
   ]
  },
  {
   "cell_type": "markdown",
   "metadata": {},
   "source": [
    "# Cross validation"
   ]
  },
  {
   "cell_type": "markdown",
   "metadata": {},
   "source": [
    "## Scoring"
   ]
  },
  {
   "cell_type": "code",
   "execution_count": 89,
   "metadata": {
    "scrolled": true
   },
   "outputs": [
    {
     "name": "stdout",
     "output_type": "stream",
     "text": [
      "Evaluation results for 5 folds\n",
      "fit_time: [ 0.011  0.011  0.011  0.012  0.011]\n",
      "score_time: [ 0.019  0.019  0.019  0.019  0.019]\n",
      "test_accuracy: [ 0.675  0.636  0.682  0.791  0.712]\n",
      "train_accuracy: [ 0.945  0.954  0.956  0.943  0.963]\n",
      "test_recall: [ 0.675  0.636  0.682  0.791  0.712]\n",
      "train_recall: [ 0.945  0.954  0.956  0.943  0.963]\n",
      "test_precision: [ 0.660  0.646  0.680  0.788  0.706]\n",
      "train_precision: [ 0.946  0.956  0.957  0.946  0.963]\n",
      "test_f1: [ 0.662  0.640  0.681  0.782  0.708]\n",
      "train_f1: [ 0.944  0.954  0.956  0.942  0.962]\n"
     ]
    }
   ],
   "source": [
    "diabetes_cv_tree_model = tree.DecisionTreeClassifier(random_state=1, \n",
    "                                                     min_samples_leaf=2)\n",
    "\n",
    "folds = 5\n",
    "\n",
    "acc_scorer = metrics.make_scorer(metrics.accuracy_score)\n",
    "recall_scorer = metrics.make_scorer(metrics.recall_score, average='weighted')\n",
    "prec_scorer = metrics.make_scorer(metrics.precision_score, average='weighted')\n",
    "f1_scorer = metrics.make_scorer(metrics.f1_score, average='weighted')\n",
    "\n",
    "scoring = {\n",
    "    'accuracy': acc_scorer, \n",
    "    'recall': recall_scorer, \n",
    "    'precision' : prec_scorer,\n",
    "    'f1': f1_scorer,\n",
    "}\n",
    "\n",
    "# More information:\n",
    "# https://scikit-learn.org/stable/modules/cross_validation.html#computing-cross-validated-metrics\n",
    "cv_tree_model_scores = ms.cross_validate(diabetes_cv_tree_model,\n",
    "                                         DATA['diabetes']['data'],\n",
    "                                         DATA['diabetes']['target'],\n",
    "                                         scoring=scoring,\n",
    "                                         cv=folds,\n",
    "                                         return_train_score=True)\n",
    "\n",
    "np.set_printoptions(formatter={'float': '{: 0.3f}'.format})\n",
    "\n",
    "print('Evaluation results for {} folds'.format(folds))\n",
    "\n",
    "for (k,v) in cv_tree_model_scores.items():\n",
    " print(('{}: {}').format(k,v))\n"
   ]
  },
  {
   "cell_type": "markdown",
   "metadata": {},
   "source": [
    "## Cross validtion predictions"
   ]
  },
  {
   "cell_type": "markdown",
   "metadata": {},
   "source": [
    "### Decision Tree Classifier"
   ]
  },
  {
   "cell_type": "code",
   "execution_count": 90,
   "metadata": {
    "scrolled": false
   },
   "outputs": [
    {
     "name": "stdout",
     "output_type": "stream",
     "text": [
      "Accuracy = 0.721\n",
      "                    precision    recall  f1-score   support\n",
      "\n",
      "b'tested_negative'       0.79      0.78      0.78       500\n",
      "b'tested_positive'       0.60      0.61      0.61       268\n",
      "\n",
      "         micro avg       0.72      0.72      0.72       768\n",
      "         macro avg       0.69      0.70      0.69       768\n",
      "      weighted avg       0.72      0.72      0.72       768\n",
      "\n",
      "Confusion matrix, without normalization\n"
     ]
    },
    {
     "data": {
      "image/png": "[encoded data removed]",
      "text/plain": [
       "<Figure size 432x288 with 2 Axes>"
      ]
     },
     "metadata": {
      "needs_background": "light"
     },
     "output_type": "display_data"
    }
   ],
   "source": [
    "diabetes_cv_predict_tree_model = tree.DecisionTreeClassifier(presort=True,       # shows better results\n",
    "                                                             max_features='auto',\n",
    "                                                             min_samples_leaf=5, # prevent overlearning\n",
    "                                                             random_state=0)\n",
    "\n",
    "cv_tree_predictions = ms.cross_val_predict(diabetes_cv_predict_tree_model, \n",
    "                                           DATA['diabetes']['data'], \n",
    "                                           DATA['diabetes']['target'],\n",
    "                                           cv=folds)\n",
    "\n",
    "print_classification_report(DATA['diabetes']['target'],  cv_tree_predictions)"
   ]
  },
  {
   "cell_type": "markdown",
   "metadata": {},
   "source": [
    "# Preparing \n",
    "```\n",
    "Do-it-all-at-once function for SOLID purpose\n",
    "Common definition for all classifiers\n",
    "Common dict for test and train data\n",
    "```"
   ]
  },
  {
   "cell_type": "code",
   "execution_count": 195,
   "metadata": {},
   "outputs": [],
   "source": [
    "def to_numeric(data):\n",
    "    data = data.astype('category')\n",
    "    cat_columns = data.select_dtypes(['category']).columns\n",
    "    for col in cat_columns:\n",
    "        data[col] = pd.Categorical(data[col]).codes\n",
    "        \n",
    "    return data\n",
    "\n",
    "# Do-it-all-at-once function for SOLID purpose\n",
    "def CV_report(classifier, hyperparameters, data_params):\n",
    "    # Parsing class name of a classifier\n",
    "    module, class_name = classifier.rsplit('.', 1)\n",
    "    __import__(module) # importing is important so module is visible in sys.modules\n",
    "    classifier_class = getattr(sys.modules[module], class_name)\n",
    "    \n",
    "    # Parsing data\n",
    "    train_data = data_params['train']['data']\n",
    "    train_labels = data_params['train']['labels']\n",
    "    test_data = data_params['test']['data']\n",
    "    test_labels = data_params['test']['labels']\n",
    "    data = data_params['data']\n",
    "    target = data_params['target']\n",
    "\n",
    "    if class_name.find(\"VotingClassifier\") != -1:\n",
    "        baseline = classifier_class(estimators=hyperparameters[0]['estimators'])\n",
    "        classifier = classifier_class(estimators=hyperparameters[0]['estimators'])\n",
    "    else:\n",
    "        baseline = classifier_class() \n",
    "        classifier = classifier_class()\n",
    "    \n",
    "    try:\n",
    "        baseline.fit(data, target)\n",
    "    except ValueError:\n",
    "        data = to_numeric(data)\n",
    "        baseline.fit(data, target)\n",
    "        # Also convert train data\n",
    "        train_data = to_numeric(train_data)\n",
    "        test_data = to_numeric(test_data)\n",
    "        \n",
    "    base_predictions = baseline.predict(data)\n",
    "\n",
    "    print_classification_report(target, base_predictions, title='Baseline '+classifier_class.__name__)\n",
    "    \n",
    "    # Creating and griding classifier\n",
    "    grid = ms.GridSearchCV(\n",
    "        classifier,\n",
    "        hyperparameters,\n",
    "        refit=True,\n",
    "        scoring=f1_scorer,\n",
    "        iid=True,\n",
    "        cv=6 # TODO: change or pass\n",
    "    )\n",
    "    \n",
    "    # Fitting\n",
    "    model = grid.fit(train_data, train_labels)\n",
    "    print(\"Best parameters:\")\n",
    "    print(model.best_params_)\n",
    "    print()\n",
    "    \n",
    "    # Predicting\n",
    "    predictions = grid.predict(test_data)\n",
    "        \n",
    "    # Plotting\n",
    "    print_classification_report(test_labels, predictions, title=classifier_class.__name__)"
   ]
  },
  {
   "cell_type": "markdown",
   "metadata": {},
   "source": [
    "#### Data"
   ]
  },
  {
   "cell_type": "code",
   "execution_count": 196,
   "metadata": {},
   "outputs": [],
   "source": [
    "# Common definitio for all classifiers\n",
    "# Looks like: 'module.Classifier' : [{hyper parameters}]\n",
    "import sklearn.linear_model\n",
    "import sklearn.ensemble\n",
    "import sklearn.naive_bayes\n",
    "\n",
    "clf1 = sklearn.linear_model.LogisticRegression(solver='lbfgs', \n",
    "                         multi_class='multinomial',\n",
    "                         random_state=1)\n",
    "clf2 = sklearn.ensemble.RandomForestClassifier(n_estimators=50, random_state=1) \n",
    "clf3 = sklearn.naive_bayes.GaussianNB()\n",
    "CLASSIFIERS = {\n",
    "    # DecisionTree\n",
    "    'sklearn.tree.DecisionTreeClassifier': [{\n",
    "        'presort':[True, False],       \n",
    "        'max_features':['auto', 1, 2, 3],\n",
    "        'min_samples_leaf':[2, 3, 4, 5, 6],\n",
    "        'random_state':[0, None]\n",
    "    }],\n",
    "    # SVC\n",
    "    'sklearn.svm.SVC': [\n",
    "        {\n",
    "            'kernel': ['rbf'],\n",
    "            'gamma': [1e-4],\n",
    "            'C': [1, 10],\n",
    "        },\n",
    "        {\n",
    "            'kernel': ['linear'], \n",
    "            'gamma': [1e-5],\n",
    "            'C': [1, 10]\n",
    "        }\n",
    "    ],\n",
    "    # LogisticRegression\n",
    "    'sklearn.linear_model.LogisticRegressionCV': [{\n",
    "        'max_iter':[1000],\n",
    "        'penalty':['l1'],\n",
    "        'solver':['saga', 'liblinear'], # only acceptable for for l1\n",
    "        'scoring':['roc_auc'],\n",
    "    }, {\n",
    "        'scoring':['roc_auc'],\n",
    "        'penalty':['l2'],\n",
    "        'solver':['newton-cg', 'lbfgs', 'liblinear', 'sag', 'saga'],\n",
    "    }],\n",
    "    'sklearn.naive_bayes.GaussianNB': [{\n",
    "        'var_smoothing': [1e-3, 1e-7, 1e-9],\n",
    "    }],\n",
    "    'sklearn.ensemble.RandomForestClassifier': [{\n",
    "        'n_estimators':[50, 100, 120],\n",
    "        'criterion':['entropy', 'gini'],\n",
    "        'max_depth':[None, 8, 13],\n",
    "        #'min_samples_split':[0.5, 0.3, 0.7],\n",
    "        'min_samples_leaf':[1,3],\n",
    "        #'max_features':['auto', 'log2', 'sqrt'],\n",
    "        'bootstrap':[True, False],\n",
    "    }],\n",
    "    'sklearn.ensemble.AdaBoostClassifier': [{\n",
    "        'learning_rate': [1, 0.7, 0.5],\n",
    "        'algorithm': ['SAMME', 'SAMME.R'],\n",
    "        'n_estimators': [50, 100],\n",
    "        'random_state': [None, 0, 1],\n",
    "    }],\n",
    "    'sklearn.ensemble.VotingClassifier': [{\n",
    "        'estimators': [('lr', clf1), ('rf', clf2), ('gnb', clf3)],\n",
    "        'voting': ['soft', 'hard'],\n",
    "        'flatten_transform':[None, True],\n",
    "    }],\n",
    "}"
   ]
  },
  {
   "cell_type": "markdown",
   "metadata": {},
   "source": [
    "# Testing and debugging"
   ]
  },
  {
   "cell_type": "code",
   "execution_count": 197,
   "metadata": {
    "scrolled": false
   },
   "outputs": [
    {
     "name": "stderr",
     "output_type": "stream",
     "text": [
      "/usr/lib/python3.7/site-packages/sklearn/linear_model/logistic.py:758: ConvergenceWarning: lbfgs failed to converge. Increase the number of iterations.\n",
      "  \"of iterations.\", ConvergenceWarning)\n"
     ]
    },
    {
     "name": "stdout",
     "output_type": "stream",
     "text": [
      "Accuracy = 0.815\n",
      "                    precision    recall  f1-score   support\n",
      "\n",
      "b'tested_negative'       0.83      0.90      0.86       500\n",
      "b'tested_positive'       0.77      0.66      0.71       268\n",
      "\n",
      "         micro avg       0.82      0.82      0.82       768\n",
      "         macro avg       0.80      0.78      0.79       768\n",
      "      weighted avg       0.81      0.82      0.81       768\n",
      "\n",
      "Confusion matrix, without normalization\n"
     ]
    },
    {
     "data": {
      "image/png": "[encoded data removed]",
      "text/plain": [
       "<Figure size 432x288 with 2 Axes>"
      ]
     },
     "metadata": {
      "needs_background": "light"
     },
     "output_type": "display_data"
    },
    {
     "ename": "TypeError",
     "evalue": "zip argument #2 must support iteration",
     "output_type": "error",
     "traceback": [
      "\u001b[0;31m------------------------------------------------------------------\u001b[0m",
      "\u001b[0;31mTypeError\u001b[0m                        Traceback (most recent call last)",
      "\u001b[0;32m<ipython-input-197-0908d1cc741b>\u001b[0m in \u001b[0;36m<module>\u001b[0;34m\u001b[0m\n\u001b[1;32m      1\u001b[0m \u001b[0;31m# Testing any classifier\u001b[0m\u001b[0;34m\u001b[0m\u001b[0;34m\u001b[0m\u001b[0;34m\u001b[0m\u001b[0m\n\u001b[1;32m      2\u001b[0m \u001b[0mclassifier\u001b[0m \u001b[0;34m=\u001b[0m \u001b[0;34m'sklearn.ensemble.VotingClassifier'\u001b[0m\u001b[0;34m\u001b[0m\u001b[0;34m\u001b[0m\u001b[0m\n\u001b[0;32m----> 3\u001b[0;31m \u001b[0mCV_report\u001b[0m\u001b[0;34m(\u001b[0m\u001b[0mclassifier\u001b[0m\u001b[0;34m,\u001b[0m \u001b[0mCLASSIFIERS\u001b[0m\u001b[0;34m[\u001b[0m\u001b[0mclassifier\u001b[0m\u001b[0;34m]\u001b[0m\u001b[0;34m,\u001b[0m \u001b[0mDATA\u001b[0m\u001b[0;34m[\u001b[0m\u001b[0;34m'diabetes'\u001b[0m\u001b[0;34m]\u001b[0m\u001b[0;34m)\u001b[0m\u001b[0;34m\u001b[0m\u001b[0;34m\u001b[0m\u001b[0m\n\u001b[0m",
      "\u001b[0;32m<ipython-input-195-85d0a56145b3>\u001b[0m in \u001b[0;36mCV_report\u001b[0;34m(classifier, hyperparameters, data_params)\u001b[0m\n\u001b[1;32m     53\u001b[0m \u001b[0;34m\u001b[0m\u001b[0m\n\u001b[1;32m     54\u001b[0m     \u001b[0;31m# Fitting\u001b[0m\u001b[0;34m\u001b[0m\u001b[0;34m\u001b[0m\u001b[0;34m\u001b[0m\u001b[0m\n\u001b[0;32m---> 55\u001b[0;31m     \u001b[0mmodel\u001b[0m \u001b[0;34m=\u001b[0m \u001b[0mgrid\u001b[0m\u001b[0;34m.\u001b[0m\u001b[0mfit\u001b[0m\u001b[0;34m(\u001b[0m\u001b[0mtrain_data\u001b[0m\u001b[0;34m,\u001b[0m \u001b[0mtrain_labels\u001b[0m\u001b[0;34m)\u001b[0m\u001b[0;34m\u001b[0m\u001b[0;34m\u001b[0m\u001b[0m\n\u001b[0m\u001b[1;32m     56\u001b[0m     \u001b[0mprint\u001b[0m\u001b[0;34m(\u001b[0m\u001b[0;34m\"Best parameters:\"\u001b[0m\u001b[0;34m)\u001b[0m\u001b[0;34m\u001b[0m\u001b[0;34m\u001b[0m\u001b[0m\n\u001b[1;32m     57\u001b[0m     \u001b[0mprint\u001b[0m\u001b[0;34m(\u001b[0m\u001b[0mmodel\u001b[0m\u001b[0;34m.\u001b[0m\u001b[0mbest_params_\u001b[0m\u001b[0;34m)\u001b[0m\u001b[0;34m\u001b[0m\u001b[0;34m\u001b[0m\u001b[0m\n",
      "\u001b[0;32m/usr/lib/python3.7/site-packages/sklearn/model_selection/_search.py\u001b[0m in \u001b[0;36mfit\u001b[0;34m(self, X, y, groups, **fit_params)\u001b[0m\n\u001b[1;32m    720\u001b[0m                 \u001b[0;32mreturn\u001b[0m \u001b[0mresults_container\u001b[0m\u001b[0;34m[\u001b[0m\u001b[0;36m0\u001b[0m\u001b[0;34m]\u001b[0m\u001b[0;34m\u001b[0m\u001b[0;34m\u001b[0m\u001b[0m\n\u001b[1;32m    721\u001b[0m \u001b[0;34m\u001b[0m\u001b[0m\n\u001b[0;32m--> 722\u001b[0;31m             \u001b[0mself\u001b[0m\u001b[0;34m.\u001b[0m\u001b[0m_run_search\u001b[0m\u001b[0;34m(\u001b[0m\u001b[0mevaluate_candidates\u001b[0m\u001b[0;34m)\u001b[0m\u001b[0;34m\u001b[0m\u001b[0;34m\u001b[0m\u001b[0m\n\u001b[0m\u001b[1;32m    723\u001b[0m \u001b[0;34m\u001b[0m\u001b[0m\n\u001b[1;32m    724\u001b[0m         \u001b[0mresults\u001b[0m \u001b[0;34m=\u001b[0m \u001b[0mresults_container\u001b[0m\u001b[0;34m[\u001b[0m\u001b[0;36m0\u001b[0m\u001b[0;34m]\u001b[0m\u001b[0;34m\u001b[0m\u001b[0;34m\u001b[0m\u001b[0m\n",
      "\u001b[0;32m/usr/lib/python3.7/site-packages/sklearn/model_selection/_search.py\u001b[0m in \u001b[0;36m_run_search\u001b[0;34m(self, evaluate_candidates)\u001b[0m\n\u001b[1;32m   1189\u001b[0m     \u001b[0;32mdef\u001b[0m \u001b[0m_run_search\u001b[0m\u001b[0;34m(\u001b[0m\u001b[0mself\u001b[0m\u001b[0;34m,\u001b[0m \u001b[0mevaluate_candidates\u001b[0m\u001b[0;34m)\u001b[0m\u001b[0;34m:\u001b[0m\u001b[0;34m\u001b[0m\u001b[0;34m\u001b[0m\u001b[0m\n\u001b[1;32m   1190\u001b[0m         \u001b[0;34m\"\"\"Search all candidates in param_grid\"\"\"\u001b[0m\u001b[0;34m\u001b[0m\u001b[0;34m\u001b[0m\u001b[0m\n\u001b[0;32m-> 1191\u001b[0;31m         \u001b[0mevaluate_candidates\u001b[0m\u001b[0;34m(\u001b[0m\u001b[0mParameterGrid\u001b[0m\u001b[0;34m(\u001b[0m\u001b[0mself\u001b[0m\u001b[0;34m.\u001b[0m\u001b[0mparam_grid\u001b[0m\u001b[0;34m)\u001b[0m\u001b[0;34m)\u001b[0m\u001b[0;34m\u001b[0m\u001b[0;34m\u001b[0m\u001b[0m\n\u001b[0m\u001b[1;32m   1192\u001b[0m \u001b[0;34m\u001b[0m\u001b[0m\n\u001b[1;32m   1193\u001b[0m \u001b[0;34m\u001b[0m\u001b[0m\n",
      "\u001b[0;32m/usr/lib/python3.7/site-packages/sklearn/model_selection/_search.py\u001b[0m in \u001b[0;36mevaluate_candidates\u001b[0;34m(candidate_params)\u001b[0m\n\u001b[1;32m    709\u001b[0m                                \u001b[0;32mfor\u001b[0m \u001b[0mparameters\u001b[0m\u001b[0;34m,\u001b[0m \u001b[0;34m(\u001b[0m\u001b[0mtrain\u001b[0m\u001b[0;34m,\u001b[0m \u001b[0mtest\u001b[0m\u001b[0;34m)\u001b[0m\u001b[0;34m\u001b[0m\u001b[0;34m\u001b[0m\u001b[0m\n\u001b[1;32m    710\u001b[0m                                in product(candidate_params,\n\u001b[0;32m--> 711\u001b[0;31m                                           cv.split(X, y, groups)))\n\u001b[0m\u001b[1;32m    712\u001b[0m \u001b[0;34m\u001b[0m\u001b[0m\n\u001b[1;32m    713\u001b[0m                 \u001b[0mall_candidate_params\u001b[0m\u001b[0;34m.\u001b[0m\u001b[0mextend\u001b[0m\u001b[0;34m(\u001b[0m\u001b[0mcandidate_params\u001b[0m\u001b[0;34m)\u001b[0m\u001b[0;34m\u001b[0m\u001b[0;34m\u001b[0m\u001b[0m\n",
      "\u001b[0;32m/usr/lib/python3.7/site-packages/sklearn/externals/joblib/parallel.py\u001b[0m in \u001b[0;36m__call__\u001b[0;34m(self, iterable)\u001b[0m\n\u001b[1;32m    915\u001b[0m             \u001b[0;31m# remaining jobs.\u001b[0m\u001b[0;34m\u001b[0m\u001b[0;34m\u001b[0m\u001b[0;34m\u001b[0m\u001b[0m\n\u001b[1;32m    916\u001b[0m             \u001b[0mself\u001b[0m\u001b[0;34m.\u001b[0m\u001b[0m_iterating\u001b[0m \u001b[0;34m=\u001b[0m \u001b[0;32mFalse\u001b[0m\u001b[0;34m\u001b[0m\u001b[0;34m\u001b[0m\u001b[0m\n\u001b[0;32m--> 917\u001b[0;31m             \u001b[0;32mif\u001b[0m \u001b[0mself\u001b[0m\u001b[0;34m.\u001b[0m\u001b[0mdispatch_one_batch\u001b[0m\u001b[0;34m(\u001b[0m\u001b[0miterator\u001b[0m\u001b[0;34m)\u001b[0m\u001b[0;34m:\u001b[0m\u001b[0;34m\u001b[0m\u001b[0;34m\u001b[0m\u001b[0m\n\u001b[0m\u001b[1;32m    918\u001b[0m                 \u001b[0mself\u001b[0m\u001b[0;34m.\u001b[0m\u001b[0m_iterating\u001b[0m \u001b[0;34m=\u001b[0m \u001b[0mself\u001b[0m\u001b[0;34m.\u001b[0m\u001b[0m_original_iterator\u001b[0m \u001b[0;32mis\u001b[0m \u001b[0;32mnot\u001b[0m \u001b[0;32mNone\u001b[0m\u001b[0;34m\u001b[0m\u001b[0;34m\u001b[0m\u001b[0m\n\u001b[1;32m    919\u001b[0m \u001b[0;34m\u001b[0m\u001b[0m\n",
      "\u001b[0;32m/usr/lib/python3.7/site-packages/sklearn/externals/joblib/parallel.py\u001b[0m in \u001b[0;36mdispatch_one_batch\u001b[0;34m(self, iterator)\u001b[0m\n\u001b[1;32m    757\u001b[0m                 \u001b[0;32mreturn\u001b[0m \u001b[0;32mFalse\u001b[0m\u001b[0;34m\u001b[0m\u001b[0;34m\u001b[0m\u001b[0m\n\u001b[1;32m    758\u001b[0m             \u001b[0;32melse\u001b[0m\u001b[0;34m:\u001b[0m\u001b[0;34m\u001b[0m\u001b[0;34m\u001b[0m\u001b[0m\n\u001b[0;32m--> 759\u001b[0;31m                 \u001b[0mself\u001b[0m\u001b[0;34m.\u001b[0m\u001b[0m_dispatch\u001b[0m\u001b[0;34m(\u001b[0m\u001b[0mtasks\u001b[0m\u001b[0;34m)\u001b[0m\u001b[0;34m\u001b[0m\u001b[0;34m\u001b[0m\u001b[0m\n\u001b[0m\u001b[1;32m    760\u001b[0m                 \u001b[0;32mreturn\u001b[0m \u001b[0;32mTrue\u001b[0m\u001b[0;34m\u001b[0m\u001b[0;34m\u001b[0m\u001b[0m\n\u001b[1;32m    761\u001b[0m \u001b[0;34m\u001b[0m\u001b[0m\n",
      "\u001b[0;32m/usr/lib/python3.7/site-packages/sklearn/externals/joblib/parallel.py\u001b[0m in \u001b[0;36m_dispatch\u001b[0;34m(self, batch)\u001b[0m\n\u001b[1;32m    714\u001b[0m         \u001b[0;32mwith\u001b[0m \u001b[0mself\u001b[0m\u001b[0;34m.\u001b[0m\u001b[0m_lock\u001b[0m\u001b[0;34m:\u001b[0m\u001b[0;34m\u001b[0m\u001b[0;34m\u001b[0m\u001b[0m\n\u001b[1;32m    715\u001b[0m             \u001b[0mjob_idx\u001b[0m \u001b[0;34m=\u001b[0m \u001b[0mlen\u001b[0m\u001b[0;34m(\u001b[0m\u001b[0mself\u001b[0m\u001b[0;34m.\u001b[0m\u001b[0m_jobs\u001b[0m\u001b[0;34m)\u001b[0m\u001b[0;34m\u001b[0m\u001b[0;34m\u001b[0m\u001b[0m\n\u001b[0;32m--> 716\u001b[0;31m             \u001b[0mjob\u001b[0m \u001b[0;34m=\u001b[0m \u001b[0mself\u001b[0m\u001b[0;34m.\u001b[0m\u001b[0m_backend\u001b[0m\u001b[0;34m.\u001b[0m\u001b[0mapply_async\u001b[0m\u001b[0;34m(\u001b[0m\u001b[0mbatch\u001b[0m\u001b[0;34m,\u001b[0m \u001b[0mcallback\u001b[0m\u001b[0;34m=\u001b[0m\u001b[0mcb\u001b[0m\u001b[0;34m)\u001b[0m\u001b[0;34m\u001b[0m\u001b[0;34m\u001b[0m\u001b[0m\n\u001b[0m\u001b[1;32m    717\u001b[0m             \u001b[0;31m# A job can complete so quickly than its callback is\u001b[0m\u001b[0;34m\u001b[0m\u001b[0;34m\u001b[0m\u001b[0;34m\u001b[0m\u001b[0m\n\u001b[1;32m    718\u001b[0m             \u001b[0;31m# called before we get here, causing self._jobs to\u001b[0m\u001b[0;34m\u001b[0m\u001b[0;34m\u001b[0m\u001b[0;34m\u001b[0m\u001b[0m\n",
      "\u001b[0;32m/usr/lib/python3.7/site-packages/sklearn/externals/joblib/_parallel_backends.py\u001b[0m in \u001b[0;36mapply_async\u001b[0;34m(self, func, callback)\u001b[0m\n\u001b[1;32m    180\u001b[0m     \u001b[0;32mdef\u001b[0m \u001b[0mapply_async\u001b[0m\u001b[0;34m(\u001b[0m\u001b[0mself\u001b[0m\u001b[0;34m,\u001b[0m \u001b[0mfunc\u001b[0m\u001b[0;34m,\u001b[0m \u001b[0mcallback\u001b[0m\u001b[0;34m=\u001b[0m\u001b[0;32mNone\u001b[0m\u001b[0;34m)\u001b[0m\u001b[0;34m:\u001b[0m\u001b[0;34m\u001b[0m\u001b[0;34m\u001b[0m\u001b[0m\n\u001b[1;32m    181\u001b[0m         \u001b[0;34m\"\"\"Schedule a func to be run\"\"\"\u001b[0m\u001b[0;34m\u001b[0m\u001b[0;34m\u001b[0m\u001b[0m\n\u001b[0;32m--> 182\u001b[0;31m         \u001b[0mresult\u001b[0m \u001b[0;34m=\u001b[0m \u001b[0mImmediateResult\u001b[0m\u001b[0;34m(\u001b[0m\u001b[0mfunc\u001b[0m\u001b[0;34m)\u001b[0m\u001b[0;34m\u001b[0m\u001b[0;34m\u001b[0m\u001b[0m\n\u001b[0m\u001b[1;32m    183\u001b[0m         \u001b[0;32mif\u001b[0m \u001b[0mcallback\u001b[0m\u001b[0;34m:\u001b[0m\u001b[0;34m\u001b[0m\u001b[0;34m\u001b[0m\u001b[0m\n\u001b[1;32m    184\u001b[0m             \u001b[0mcallback\u001b[0m\u001b[0;34m(\u001b[0m\u001b[0mresult\u001b[0m\u001b[0;34m)\u001b[0m\u001b[0;34m\u001b[0m\u001b[0;34m\u001b[0m\u001b[0m\n",
      "\u001b[0;32m/usr/lib/python3.7/site-packages/sklearn/externals/joblib/_parallel_backends.py\u001b[0m in \u001b[0;36m__init__\u001b[0;34m(self, batch)\u001b[0m\n\u001b[1;32m    547\u001b[0m         \u001b[0;31m# Don't delay the application, to avoid keeping the input\u001b[0m\u001b[0;34m\u001b[0m\u001b[0;34m\u001b[0m\u001b[0;34m\u001b[0m\u001b[0m\n\u001b[1;32m    548\u001b[0m         \u001b[0;31m# arguments in memory\u001b[0m\u001b[0;34m\u001b[0m\u001b[0;34m\u001b[0m\u001b[0;34m\u001b[0m\u001b[0m\n\u001b[0;32m--> 549\u001b[0;31m         \u001b[0mself\u001b[0m\u001b[0;34m.\u001b[0m\u001b[0mresults\u001b[0m \u001b[0;34m=\u001b[0m \u001b[0mbatch\u001b[0m\u001b[0;34m(\u001b[0m\u001b[0;34m)\u001b[0m\u001b[0;34m\u001b[0m\u001b[0;34m\u001b[0m\u001b[0m\n\u001b[0m\u001b[1;32m    550\u001b[0m \u001b[0;34m\u001b[0m\u001b[0m\n\u001b[1;32m    551\u001b[0m     \u001b[0;32mdef\u001b[0m \u001b[0mget\u001b[0m\u001b[0;34m(\u001b[0m\u001b[0mself\u001b[0m\u001b[0;34m)\u001b[0m\u001b[0;34m:\u001b[0m\u001b[0;34m\u001b[0m\u001b[0;34m\u001b[0m\u001b[0m\n",
      "\u001b[0;32m/usr/lib/python3.7/site-packages/sklearn/externals/joblib/parallel.py\u001b[0m in \u001b[0;36m__call__\u001b[0;34m(self)\u001b[0m\n\u001b[1;32m    223\u001b[0m         \u001b[0;32mwith\u001b[0m \u001b[0mparallel_backend\u001b[0m\u001b[0;34m(\u001b[0m\u001b[0mself\u001b[0m\u001b[0;34m.\u001b[0m\u001b[0m_backend\u001b[0m\u001b[0;34m,\u001b[0m \u001b[0mn_jobs\u001b[0m\u001b[0;34m=\u001b[0m\u001b[0mself\u001b[0m\u001b[0;34m.\u001b[0m\u001b[0m_n_jobs\u001b[0m\u001b[0;34m)\u001b[0m\u001b[0;34m:\u001b[0m\u001b[0;34m\u001b[0m\u001b[0;34m\u001b[0m\u001b[0m\n\u001b[1;32m    224\u001b[0m             return [func(*args, **kwargs)\n\u001b[0;32m--> 225\u001b[0;31m                     for func, args, kwargs in self.items]\n\u001b[0m\u001b[1;32m    226\u001b[0m \u001b[0;34m\u001b[0m\u001b[0m\n\u001b[1;32m    227\u001b[0m     \u001b[0;32mdef\u001b[0m \u001b[0m__len__\u001b[0m\u001b[0;34m(\u001b[0m\u001b[0mself\u001b[0m\u001b[0;34m)\u001b[0m\u001b[0;34m:\u001b[0m\u001b[0;34m\u001b[0m\u001b[0;34m\u001b[0m\u001b[0m\n",
      "\u001b[0;32m/usr/lib/python3.7/site-packages/sklearn/externals/joblib/parallel.py\u001b[0m in \u001b[0;36m<listcomp>\u001b[0;34m(.0)\u001b[0m\n\u001b[1;32m    223\u001b[0m         \u001b[0;32mwith\u001b[0m \u001b[0mparallel_backend\u001b[0m\u001b[0;34m(\u001b[0m\u001b[0mself\u001b[0m\u001b[0;34m.\u001b[0m\u001b[0m_backend\u001b[0m\u001b[0;34m,\u001b[0m \u001b[0mn_jobs\u001b[0m\u001b[0;34m=\u001b[0m\u001b[0mself\u001b[0m\u001b[0;34m.\u001b[0m\u001b[0m_n_jobs\u001b[0m\u001b[0;34m)\u001b[0m\u001b[0;34m:\u001b[0m\u001b[0;34m\u001b[0m\u001b[0;34m\u001b[0m\u001b[0m\n\u001b[1;32m    224\u001b[0m             return [func(*args, **kwargs)\n\u001b[0;32m--> 225\u001b[0;31m                     for func, args, kwargs in self.items]\n\u001b[0m\u001b[1;32m    226\u001b[0m \u001b[0;34m\u001b[0m\u001b[0m\n\u001b[1;32m    227\u001b[0m     \u001b[0;32mdef\u001b[0m \u001b[0m__len__\u001b[0m\u001b[0;34m(\u001b[0m\u001b[0mself\u001b[0m\u001b[0;34m)\u001b[0m\u001b[0;34m:\u001b[0m\u001b[0;34m\u001b[0m\u001b[0;34m\u001b[0m\u001b[0m\n",
      "\u001b[0;32m/usr/lib/python3.7/site-packages/sklearn/model_selection/_validation.py\u001b[0m in \u001b[0;36m_fit_and_score\u001b[0;34m(estimator, X, y, scorer, train, test, verbose, parameters, fit_params, return_train_score, return_parameters, return_n_test_samples, return_times, return_estimator, error_score)\u001b[0m\n\u001b[1;32m    512\u001b[0m     \u001b[0mtrain_scores\u001b[0m \u001b[0;34m=\u001b[0m \u001b[0;34m{\u001b[0m\u001b[0;34m}\u001b[0m\u001b[0;34m\u001b[0m\u001b[0;34m\u001b[0m\u001b[0m\n\u001b[1;32m    513\u001b[0m     \u001b[0;32mif\u001b[0m \u001b[0mparameters\u001b[0m \u001b[0;32mis\u001b[0m \u001b[0;32mnot\u001b[0m \u001b[0;32mNone\u001b[0m\u001b[0;34m:\u001b[0m\u001b[0;34m\u001b[0m\u001b[0;34m\u001b[0m\u001b[0m\n\u001b[0;32m--> 514\u001b[0;31m         \u001b[0mestimator\u001b[0m\u001b[0;34m.\u001b[0m\u001b[0mset_params\u001b[0m\u001b[0;34m(\u001b[0m\u001b[0;34m**\u001b[0m\u001b[0mparameters\u001b[0m\u001b[0;34m)\u001b[0m\u001b[0;34m\u001b[0m\u001b[0;34m\u001b[0m\u001b[0m\n\u001b[0m\u001b[1;32m    515\u001b[0m \u001b[0;34m\u001b[0m\u001b[0m\n\u001b[1;32m    516\u001b[0m     \u001b[0mstart_time\u001b[0m \u001b[0;34m=\u001b[0m \u001b[0mtime\u001b[0m\u001b[0;34m.\u001b[0m\u001b[0mtime\u001b[0m\u001b[0;34m(\u001b[0m\u001b[0;34m)\u001b[0m\u001b[0;34m\u001b[0m\u001b[0;34m\u001b[0m\u001b[0m\n",
      "\u001b[0;32m/usr/lib/python3.7/site-packages/sklearn/ensemble/voting_classifier.py\u001b[0m in \u001b[0;36mset_params\u001b[0;34m(self, **params)\u001b[0m\n\u001b[1;32m    335\u001b[0m \u001b[0;34m\u001b[0m\u001b[0m\n\u001b[1;32m    336\u001b[0m         \"\"\"\n\u001b[0;32m--> 337\u001b[0;31m         \u001b[0msuper\u001b[0m\u001b[0;34m(\u001b[0m\u001b[0mVotingClassifier\u001b[0m\u001b[0;34m,\u001b[0m \u001b[0mself\u001b[0m\u001b[0;34m)\u001b[0m\u001b[0;34m.\u001b[0m\u001b[0m_set_params\u001b[0m\u001b[0;34m(\u001b[0m\u001b[0;34m'estimators'\u001b[0m\u001b[0;34m,\u001b[0m \u001b[0;34m**\u001b[0m\u001b[0mparams\u001b[0m\u001b[0;34m)\u001b[0m\u001b[0;34m\u001b[0m\u001b[0;34m\u001b[0m\u001b[0m\n\u001b[0m\u001b[1;32m    338\u001b[0m         \u001b[0;32mreturn\u001b[0m \u001b[0mself\u001b[0m\u001b[0;34m\u001b[0m\u001b[0;34m\u001b[0m\u001b[0m\n\u001b[1;32m    339\u001b[0m \u001b[0;34m\u001b[0m\u001b[0m\n",
      "\u001b[0;32m/usr/lib/python3.7/site-packages/sklearn/utils/metaestimators.py\u001b[0m in \u001b[0;36m_set_params\u001b[0;34m(self, attr, **params)\u001b[0m\n\u001b[1;32m     45\u001b[0m         \u001b[0mnames\u001b[0m \u001b[0;34m=\u001b[0m \u001b[0;34m[\u001b[0m\u001b[0;34m]\u001b[0m\u001b[0;34m\u001b[0m\u001b[0;34m\u001b[0m\u001b[0m\n\u001b[1;32m     46\u001b[0m         \u001b[0;32mif\u001b[0m \u001b[0mitems\u001b[0m\u001b[0;34m:\u001b[0m\u001b[0;34m\u001b[0m\u001b[0;34m\u001b[0m\u001b[0m\n\u001b[0;32m---> 47\u001b[0;31m             \u001b[0mnames\u001b[0m\u001b[0;34m,\u001b[0m \u001b[0m_\u001b[0m \u001b[0;34m=\u001b[0m \u001b[0mzip\u001b[0m\u001b[0;34m(\u001b[0m\u001b[0;34m*\u001b[0m\u001b[0mitems\u001b[0m\u001b[0;34m)\u001b[0m\u001b[0;34m\u001b[0m\u001b[0;34m\u001b[0m\u001b[0m\n\u001b[0m\u001b[1;32m     48\u001b[0m         \u001b[0;32mfor\u001b[0m \u001b[0mname\u001b[0m \u001b[0;32min\u001b[0m \u001b[0mlist\u001b[0m\u001b[0;34m(\u001b[0m\u001b[0msix\u001b[0m\u001b[0;34m.\u001b[0m\u001b[0miterkeys\u001b[0m\u001b[0;34m(\u001b[0m\u001b[0mparams\u001b[0m\u001b[0;34m)\u001b[0m\u001b[0;34m)\u001b[0m\u001b[0;34m:\u001b[0m\u001b[0;34m\u001b[0m\u001b[0;34m\u001b[0m\u001b[0m\n\u001b[1;32m     49\u001b[0m             \u001b[0;32mif\u001b[0m \u001b[0;34m'__'\u001b[0m \u001b[0;32mnot\u001b[0m \u001b[0;32min\u001b[0m \u001b[0mname\u001b[0m \u001b[0;32mand\u001b[0m \u001b[0mname\u001b[0m \u001b[0;32min\u001b[0m \u001b[0mnames\u001b[0m\u001b[0;34m:\u001b[0m\u001b[0;34m\u001b[0m\u001b[0;34m\u001b[0m\u001b[0m\n",
      "\u001b[0;31mTypeError\u001b[0m: zip argument #2 must support iteration"
     ]
    }
   ],
   "source": [
    "# Testing any classifier\n",
    "classifier = 'sklearn.ensemble.VotingClassifier'\n",
    "CV_report(classifier, CLASSIFIERS[classifier], DATA['diabetes'])"
   ]
  },
  {
   "cell_type": "markdown",
   "metadata": {},
   "source": [
    "# Classifying and cross validating\n",
    "#### Going to take a long time"
   ]
  },
  {
   "cell_type": "code",
   "execution_count": 186,
   "metadata": {
    "scrolled": false
   },
   "outputs": [
    {
     "name": "stdout",
     "output_type": "stream",
     "text": [
      "USING DATASET diabetes\n",
      "**********************************************************************\n",
      "Using sklearn.tree.DecisionTreeClassifier...\n",
      "Accuracy = 1.000\n",
      "                    precision    recall  f1-score   support\n",
      "\n",
      "b'tested_negative'       1.00      1.00      1.00       500\n",
      "b'tested_positive'       1.00      1.00      1.00       268\n",
      "\n",
      "         micro avg       1.00      1.00      1.00       768\n",
      "         macro avg       1.00      1.00      1.00       768\n",
      "      weighted avg       1.00      1.00      1.00       768\n",
      "\n",
      "Confusion matrix, without normalization\n"
     ]
    },
    {
     "data": {
      "image/png": "[encoded data removed]",
      "text/plain": [
       "<Figure size 432x288 with 2 Axes>"
      ]
     },
     "metadata": {
      "needs_background": "light"
     },
     "output_type": "display_data"
    },
    {
     "name": "stdout",
     "output_type": "stream",
     "text": [
      "Best parameters:\n",
      "{'max_features': 3, 'min_samples_leaf': 6, 'presort': True, 'random_state': 0}\n",
      "\n",
      "Accuracy = 0.736\n",
      "                    precision    recall  f1-score   support\n",
      "\n",
      "b'tested_negative'       0.79      0.84      0.81       171\n",
      "b'tested_positive'       0.61      0.53      0.57        83\n",
      "\n",
      "         micro avg       0.74      0.74      0.74       254\n",
      "         macro avg       0.70      0.68      0.69       254\n",
      "      weighted avg       0.73      0.74      0.73       254\n",
      "\n",
      "Confusion matrix, without normalization\n"
     ]
    },
    {
     "data": {
      "image/png": "[encoded data removed]",
      "text/plain": [
       "<Figure size 432x288 with 2 Axes>"
      ]
     },
     "metadata": {
      "needs_background": "light"
     },
     "output_type": "display_data"
    },
    {
     "name": "stdout",
     "output_type": "stream",
     "text": [
      "**********************************************************************\n",
      "**********************************************************************\n",
      "Using sklearn.svm.SVC...\n"
     ]
    },
    {
     "name": "stderr",
     "output_type": "stream",
     "text": [
      "/usr/lib/python3.7/site-packages/sklearn/svm/base.py:196: FutureWarning: The default value of gamma will change from 'auto' to 'scale' in version 0.22 to account better for unscaled features. Set gamma explicitly to 'auto' or 'scale' to avoid this warning.\n",
      "  \"avoid this warning.\", FutureWarning)\n"
     ]
    },
    {
     "name": "stdout",
     "output_type": "stream",
     "text": [
      "Accuracy = 1.000\n",
      "                    precision    recall  f1-score   support\n",
      "\n",
      "b'tested_negative'       1.00      1.00      1.00       500\n",
      "b'tested_positive'       1.00      1.00      1.00       268\n",
      "\n",
      "         micro avg       1.00      1.00      1.00       768\n",
      "         macro avg       1.00      1.00      1.00       768\n",
      "      weighted avg       1.00      1.00      1.00       768\n",
      "\n",
      "Confusion matrix, without normalization\n"
     ]
    },
    {
     "data": {
      "image/png": "[encoded data removed]",
      "text/plain": [
       "<Figure size 432x288 with 2 Axes>"
      ]
     },
     "metadata": {
      "needs_background": "light"
     },
     "output_type": "display_data"
    },
    {
     "ename": "KeyboardInterrupt",
     "evalue": "",
     "output_type": "error",
     "traceback": [
      "\u001b[0;31m------------------------------------------------------------------\u001b[0m",
      "\u001b[0;31mKeyboardInterrupt\u001b[0m                Traceback (most recent call last)",
      "\u001b[0;32m<ipython-input-186-19537ef3f52c>\u001b[0m in \u001b[0;36m<module>\u001b[0;34m\u001b[0m\n\u001b[1;32m      8\u001b[0m         CV_report(classifier, \n\u001b[1;32m      9\u001b[0m                   \u001b[0mhyperparams\u001b[0m\u001b[0;34m,\u001b[0m\u001b[0;34m\u001b[0m\u001b[0;34m\u001b[0m\u001b[0m\n\u001b[0;32m---> 10\u001b[0;31m                   data)\n\u001b[0m\u001b[1;32m     11\u001b[0m         \u001b[0mprint\u001b[0m\u001b[0;34m(\u001b[0m\u001b[0;34m'*'\u001b[0m \u001b[0;34m*\u001b[0m \u001b[0;36m70\u001b[0m\u001b[0;34m)\u001b[0m\u001b[0;34m\u001b[0m\u001b[0;34m\u001b[0m\u001b[0m\n",
      "\u001b[0;32m<ipython-input-183-41de03b948ff>\u001b[0m in \u001b[0;36mCV_report\u001b[0;34m(classifier, hyperparameters, data_params)\u001b[0m\n\u001b[1;32m     49\u001b[0m \u001b[0;34m\u001b[0m\u001b[0m\n\u001b[1;32m     50\u001b[0m     \u001b[0;31m# Fitting\u001b[0m\u001b[0;34m\u001b[0m\u001b[0;34m\u001b[0m\u001b[0;34m\u001b[0m\u001b[0m\n\u001b[0;32m---> 51\u001b[0;31m     \u001b[0mmodel\u001b[0m \u001b[0;34m=\u001b[0m \u001b[0mgrid\u001b[0m\u001b[0;34m.\u001b[0m\u001b[0mfit\u001b[0m\u001b[0;34m(\u001b[0m\u001b[0mtrain_data\u001b[0m\u001b[0;34m,\u001b[0m \u001b[0mtrain_labels\u001b[0m\u001b[0;34m)\u001b[0m\u001b[0;34m\u001b[0m\u001b[0;34m\u001b[0m\u001b[0m\n\u001b[0m\u001b[1;32m     52\u001b[0m     \u001b[0mprint\u001b[0m\u001b[0;34m(\u001b[0m\u001b[0;34m\"Best parameters:\"\u001b[0m\u001b[0;34m)\u001b[0m\u001b[0;34m\u001b[0m\u001b[0;34m\u001b[0m\u001b[0m\n\u001b[1;32m     53\u001b[0m     \u001b[0mprint\u001b[0m\u001b[0;34m(\u001b[0m\u001b[0mmodel\u001b[0m\u001b[0;34m.\u001b[0m\u001b[0mbest_params_\u001b[0m\u001b[0;34m)\u001b[0m\u001b[0;34m\u001b[0m\u001b[0;34m\u001b[0m\u001b[0m\n",
      "\u001b[0;32m/usr/lib/python3.7/site-packages/sklearn/model_selection/_search.py\u001b[0m in \u001b[0;36mfit\u001b[0;34m(self, X, y, groups, **fit_params)\u001b[0m\n\u001b[1;32m    720\u001b[0m                 \u001b[0;32mreturn\u001b[0m \u001b[0mresults_container\u001b[0m\u001b[0;34m[\u001b[0m\u001b[0;36m0\u001b[0m\u001b[0;34m]\u001b[0m\u001b[0;34m\u001b[0m\u001b[0;34m\u001b[0m\u001b[0m\n\u001b[1;32m    721\u001b[0m \u001b[0;34m\u001b[0m\u001b[0m\n\u001b[0;32m--> 722\u001b[0;31m             \u001b[0mself\u001b[0m\u001b[0;34m.\u001b[0m\u001b[0m_run_search\u001b[0m\u001b[0;34m(\u001b[0m\u001b[0mevaluate_candidates\u001b[0m\u001b[0;34m)\u001b[0m\u001b[0;34m\u001b[0m\u001b[0;34m\u001b[0m\u001b[0m\n\u001b[0m\u001b[1;32m    723\u001b[0m \u001b[0;34m\u001b[0m\u001b[0m\n\u001b[1;32m    724\u001b[0m         \u001b[0mresults\u001b[0m \u001b[0;34m=\u001b[0m \u001b[0mresults_container\u001b[0m\u001b[0;34m[\u001b[0m\u001b[0;36m0\u001b[0m\u001b[0;34m]\u001b[0m\u001b[0;34m\u001b[0m\u001b[0;34m\u001b[0m\u001b[0m\n",
      "\u001b[0;32m/usr/lib/python3.7/site-packages/sklearn/model_selection/_search.py\u001b[0m in \u001b[0;36m_run_search\u001b[0;34m(self, evaluate_candidates)\u001b[0m\n\u001b[1;32m   1189\u001b[0m     \u001b[0;32mdef\u001b[0m \u001b[0m_run_search\u001b[0m\u001b[0;34m(\u001b[0m\u001b[0mself\u001b[0m\u001b[0;34m,\u001b[0m \u001b[0mevaluate_candidates\u001b[0m\u001b[0;34m)\u001b[0m\u001b[0;34m:\u001b[0m\u001b[0;34m\u001b[0m\u001b[0;34m\u001b[0m\u001b[0m\n\u001b[1;32m   1190\u001b[0m         \u001b[0;34m\"\"\"Search all candidates in param_grid\"\"\"\u001b[0m\u001b[0;34m\u001b[0m\u001b[0;34m\u001b[0m\u001b[0m\n\u001b[0;32m-> 1191\u001b[0;31m         \u001b[0mevaluate_candidates\u001b[0m\u001b[0;34m(\u001b[0m\u001b[0mParameterGrid\u001b[0m\u001b[0;34m(\u001b[0m\u001b[0mself\u001b[0m\u001b[0;34m.\u001b[0m\u001b[0mparam_grid\u001b[0m\u001b[0;34m)\u001b[0m\u001b[0;34m)\u001b[0m\u001b[0;34m\u001b[0m\u001b[0;34m\u001b[0m\u001b[0m\n\u001b[0m\u001b[1;32m   1192\u001b[0m \u001b[0;34m\u001b[0m\u001b[0m\n\u001b[1;32m   1193\u001b[0m \u001b[0;34m\u001b[0m\u001b[0m\n",
      "\u001b[0;32m/usr/lib/python3.7/site-packages/sklearn/model_selection/_search.py\u001b[0m in \u001b[0;36mevaluate_candidates\u001b[0;34m(candidate_params)\u001b[0m\n\u001b[1;32m    709\u001b[0m                                \u001b[0;32mfor\u001b[0m \u001b[0mparameters\u001b[0m\u001b[0;34m,\u001b[0m \u001b[0;34m(\u001b[0m\u001b[0mtrain\u001b[0m\u001b[0;34m,\u001b[0m \u001b[0mtest\u001b[0m\u001b[0;34m)\u001b[0m\u001b[0;34m\u001b[0m\u001b[0;34m\u001b[0m\u001b[0m\n\u001b[1;32m    710\u001b[0m                                in product(candidate_params,\n\u001b[0;32m--> 711\u001b[0;31m                                           cv.split(X, y, groups)))\n\u001b[0m\u001b[1;32m    712\u001b[0m \u001b[0;34m\u001b[0m\u001b[0m\n\u001b[1;32m    713\u001b[0m                 \u001b[0mall_candidate_params\u001b[0m\u001b[0;34m.\u001b[0m\u001b[0mextend\u001b[0m\u001b[0;34m(\u001b[0m\u001b[0mcandidate_params\u001b[0m\u001b[0;34m)\u001b[0m\u001b[0;34m\u001b[0m\u001b[0;34m\u001b[0m\u001b[0m\n",
      "\u001b[0;32m/usr/lib/python3.7/site-packages/sklearn/externals/joblib/parallel.py\u001b[0m in \u001b[0;36m__call__\u001b[0;34m(self, iterable)\u001b[0m\n\u001b[1;32m    918\u001b[0m                 \u001b[0mself\u001b[0m\u001b[0;34m.\u001b[0m\u001b[0m_iterating\u001b[0m \u001b[0;34m=\u001b[0m \u001b[0mself\u001b[0m\u001b[0;34m.\u001b[0m\u001b[0m_original_iterator\u001b[0m \u001b[0;32mis\u001b[0m \u001b[0;32mnot\u001b[0m \u001b[0;32mNone\u001b[0m\u001b[0;34m\u001b[0m\u001b[0;34m\u001b[0m\u001b[0m\n\u001b[1;32m    919\u001b[0m \u001b[0;34m\u001b[0m\u001b[0m\n\u001b[0;32m--> 920\u001b[0;31m             \u001b[0;32mwhile\u001b[0m \u001b[0mself\u001b[0m\u001b[0;34m.\u001b[0m\u001b[0mdispatch_one_batch\u001b[0m\u001b[0;34m(\u001b[0m\u001b[0miterator\u001b[0m\u001b[0;34m)\u001b[0m\u001b[0;34m:\u001b[0m\u001b[0;34m\u001b[0m\u001b[0;34m\u001b[0m\u001b[0m\n\u001b[0m\u001b[1;32m    921\u001b[0m                 \u001b[0;32mpass\u001b[0m\u001b[0;34m\u001b[0m\u001b[0;34m\u001b[0m\u001b[0m\n\u001b[1;32m    922\u001b[0m \u001b[0;34m\u001b[0m\u001b[0m\n",
      "\u001b[0;32m/usr/lib/python3.7/site-packages/sklearn/externals/joblib/parallel.py\u001b[0m in \u001b[0;36mdispatch_one_batch\u001b[0;34m(self, iterator)\u001b[0m\n\u001b[1;32m    757\u001b[0m                 \u001b[0;32mreturn\u001b[0m \u001b[0;32mFalse\u001b[0m\u001b[0;34m\u001b[0m\u001b[0;34m\u001b[0m\u001b[0m\n\u001b[1;32m    758\u001b[0m             \u001b[0;32melse\u001b[0m\u001b[0;34m:\u001b[0m\u001b[0;34m\u001b[0m\u001b[0;34m\u001b[0m\u001b[0m\n\u001b[0;32m--> 759\u001b[0;31m                 \u001b[0mself\u001b[0m\u001b[0;34m.\u001b[0m\u001b[0m_dispatch\u001b[0m\u001b[0;34m(\u001b[0m\u001b[0mtasks\u001b[0m\u001b[0;34m)\u001b[0m\u001b[0;34m\u001b[0m\u001b[0;34m\u001b[0m\u001b[0m\n\u001b[0m\u001b[1;32m    760\u001b[0m                 \u001b[0;32mreturn\u001b[0m \u001b[0;32mTrue\u001b[0m\u001b[0;34m\u001b[0m\u001b[0;34m\u001b[0m\u001b[0m\n\u001b[1;32m    761\u001b[0m \u001b[0;34m\u001b[0m\u001b[0m\n",
      "\u001b[0;32m/usr/lib/python3.7/site-packages/sklearn/externals/joblib/parallel.py\u001b[0m in \u001b[0;36m_dispatch\u001b[0;34m(self, batch)\u001b[0m\n\u001b[1;32m    714\u001b[0m         \u001b[0;32mwith\u001b[0m \u001b[0mself\u001b[0m\u001b[0;34m.\u001b[0m\u001b[0m_lock\u001b[0m\u001b[0;34m:\u001b[0m\u001b[0;34m\u001b[0m\u001b[0;34m\u001b[0m\u001b[0m\n\u001b[1;32m    715\u001b[0m             \u001b[0mjob_idx\u001b[0m \u001b[0;34m=\u001b[0m \u001b[0mlen\u001b[0m\u001b[0;34m(\u001b[0m\u001b[0mself\u001b[0m\u001b[0;34m.\u001b[0m\u001b[0m_jobs\u001b[0m\u001b[0;34m)\u001b[0m\u001b[0;34m\u001b[0m\u001b[0;34m\u001b[0m\u001b[0m\n\u001b[0;32m--> 716\u001b[0;31m             \u001b[0mjob\u001b[0m \u001b[0;34m=\u001b[0m \u001b[0mself\u001b[0m\u001b[0;34m.\u001b[0m\u001b[0m_backend\u001b[0m\u001b[0;34m.\u001b[0m\u001b[0mapply_async\u001b[0m\u001b[0;34m(\u001b[0m\u001b[0mbatch\u001b[0m\u001b[0;34m,\u001b[0m \u001b[0mcallback\u001b[0m\u001b[0;34m=\u001b[0m\u001b[0mcb\u001b[0m\u001b[0;34m)\u001b[0m\u001b[0;34m\u001b[0m\u001b[0;34m\u001b[0m\u001b[0m\n\u001b[0m\u001b[1;32m    717\u001b[0m             \u001b[0;31m# A job can complete so quickly than its callback is\u001b[0m\u001b[0;34m\u001b[0m\u001b[0;34m\u001b[0m\u001b[0;34m\u001b[0m\u001b[0m\n\u001b[1;32m    718\u001b[0m             \u001b[0;31m# called before we get here, causing self._jobs to\u001b[0m\u001b[0;34m\u001b[0m\u001b[0;34m\u001b[0m\u001b[0;34m\u001b[0m\u001b[0m\n",
      "\u001b[0;32m/usr/lib/python3.7/site-packages/sklearn/externals/joblib/_parallel_backends.py\u001b[0m in \u001b[0;36mapply_async\u001b[0;34m(self, func, callback)\u001b[0m\n\u001b[1;32m    180\u001b[0m     \u001b[0;32mdef\u001b[0m \u001b[0mapply_async\u001b[0m\u001b[0;34m(\u001b[0m\u001b[0mself\u001b[0m\u001b[0;34m,\u001b[0m \u001b[0mfunc\u001b[0m\u001b[0;34m,\u001b[0m \u001b[0mcallback\u001b[0m\u001b[0;34m=\u001b[0m\u001b[0;32mNone\u001b[0m\u001b[0;34m)\u001b[0m\u001b[0;34m:\u001b[0m\u001b[0;34m\u001b[0m\u001b[0;34m\u001b[0m\u001b[0m\n\u001b[1;32m    181\u001b[0m         \u001b[0;34m\"\"\"Schedule a func to be run\"\"\"\u001b[0m\u001b[0;34m\u001b[0m\u001b[0;34m\u001b[0m\u001b[0m\n\u001b[0;32m--> 182\u001b[0;31m         \u001b[0mresult\u001b[0m \u001b[0;34m=\u001b[0m \u001b[0mImmediateResult\u001b[0m\u001b[0;34m(\u001b[0m\u001b[0mfunc\u001b[0m\u001b[0;34m)\u001b[0m\u001b[0;34m\u001b[0m\u001b[0;34m\u001b[0m\u001b[0m\n\u001b[0m\u001b[1;32m    183\u001b[0m         \u001b[0;32mif\u001b[0m \u001b[0mcallback\u001b[0m\u001b[0;34m:\u001b[0m\u001b[0;34m\u001b[0m\u001b[0;34m\u001b[0m\u001b[0m\n\u001b[1;32m    184\u001b[0m             \u001b[0mcallback\u001b[0m\u001b[0;34m(\u001b[0m\u001b[0mresult\u001b[0m\u001b[0;34m)\u001b[0m\u001b[0;34m\u001b[0m\u001b[0;34m\u001b[0m\u001b[0m\n",
      "\u001b[0;32m/usr/lib/python3.7/site-packages/sklearn/externals/joblib/_parallel_backends.py\u001b[0m in \u001b[0;36m__init__\u001b[0;34m(self, batch)\u001b[0m\n\u001b[1;32m    547\u001b[0m         \u001b[0;31m# Don't delay the application, to avoid keeping the input\u001b[0m\u001b[0;34m\u001b[0m\u001b[0;34m\u001b[0m\u001b[0;34m\u001b[0m\u001b[0m\n\u001b[1;32m    548\u001b[0m         \u001b[0;31m# arguments in memory\u001b[0m\u001b[0;34m\u001b[0m\u001b[0;34m\u001b[0m\u001b[0;34m\u001b[0m\u001b[0m\n\u001b[0;32m--> 549\u001b[0;31m         \u001b[0mself\u001b[0m\u001b[0;34m.\u001b[0m\u001b[0mresults\u001b[0m \u001b[0;34m=\u001b[0m \u001b[0mbatch\u001b[0m\u001b[0;34m(\u001b[0m\u001b[0;34m)\u001b[0m\u001b[0;34m\u001b[0m\u001b[0;34m\u001b[0m\u001b[0m\n\u001b[0m\u001b[1;32m    550\u001b[0m \u001b[0;34m\u001b[0m\u001b[0m\n\u001b[1;32m    551\u001b[0m     \u001b[0;32mdef\u001b[0m \u001b[0mget\u001b[0m\u001b[0;34m(\u001b[0m\u001b[0mself\u001b[0m\u001b[0;34m)\u001b[0m\u001b[0;34m:\u001b[0m\u001b[0;34m\u001b[0m\u001b[0;34m\u001b[0m\u001b[0m\n",
      "\u001b[0;32m/usr/lib/python3.7/site-packages/sklearn/externals/joblib/parallel.py\u001b[0m in \u001b[0;36m__call__\u001b[0;34m(self)\u001b[0m\n\u001b[1;32m    223\u001b[0m         \u001b[0;32mwith\u001b[0m \u001b[0mparallel_backend\u001b[0m\u001b[0;34m(\u001b[0m\u001b[0mself\u001b[0m\u001b[0;34m.\u001b[0m\u001b[0m_backend\u001b[0m\u001b[0;34m,\u001b[0m \u001b[0mn_jobs\u001b[0m\u001b[0;34m=\u001b[0m\u001b[0mself\u001b[0m\u001b[0;34m.\u001b[0m\u001b[0m_n_jobs\u001b[0m\u001b[0;34m)\u001b[0m\u001b[0;34m:\u001b[0m\u001b[0;34m\u001b[0m\u001b[0;34m\u001b[0m\u001b[0m\n\u001b[1;32m    224\u001b[0m             return [func(*args, **kwargs)\n\u001b[0;32m--> 225\u001b[0;31m                     for func, args, kwargs in self.items]\n\u001b[0m\u001b[1;32m    226\u001b[0m \u001b[0;34m\u001b[0m\u001b[0m\n\u001b[1;32m    227\u001b[0m     \u001b[0;32mdef\u001b[0m \u001b[0m__len__\u001b[0m\u001b[0;34m(\u001b[0m\u001b[0mself\u001b[0m\u001b[0;34m)\u001b[0m\u001b[0;34m:\u001b[0m\u001b[0;34m\u001b[0m\u001b[0;34m\u001b[0m\u001b[0m\n",
      "\u001b[0;32m/usr/lib/python3.7/site-packages/sklearn/externals/joblib/parallel.py\u001b[0m in \u001b[0;36m<listcomp>\u001b[0;34m(.0)\u001b[0m\n\u001b[1;32m    223\u001b[0m         \u001b[0;32mwith\u001b[0m \u001b[0mparallel_backend\u001b[0m\u001b[0;34m(\u001b[0m\u001b[0mself\u001b[0m\u001b[0;34m.\u001b[0m\u001b[0m_backend\u001b[0m\u001b[0;34m,\u001b[0m \u001b[0mn_jobs\u001b[0m\u001b[0;34m=\u001b[0m\u001b[0mself\u001b[0m\u001b[0;34m.\u001b[0m\u001b[0m_n_jobs\u001b[0m\u001b[0;34m)\u001b[0m\u001b[0;34m:\u001b[0m\u001b[0;34m\u001b[0m\u001b[0;34m\u001b[0m\u001b[0m\n\u001b[1;32m    224\u001b[0m             return [func(*args, **kwargs)\n\u001b[0;32m--> 225\u001b[0;31m                     for func, args, kwargs in self.items]\n\u001b[0m\u001b[1;32m    226\u001b[0m \u001b[0;34m\u001b[0m\u001b[0m\n\u001b[1;32m    227\u001b[0m     \u001b[0;32mdef\u001b[0m \u001b[0m__len__\u001b[0m\u001b[0;34m(\u001b[0m\u001b[0mself\u001b[0m\u001b[0;34m)\u001b[0m\u001b[0;34m:\u001b[0m\u001b[0;34m\u001b[0m\u001b[0;34m\u001b[0m\u001b[0m\n",
      "\u001b[0;32m/usr/lib/python3.7/site-packages/sklearn/model_selection/_validation.py\u001b[0m in \u001b[0;36m_fit_and_score\u001b[0;34m(estimator, X, y, scorer, train, test, verbose, parameters, fit_params, return_train_score, return_parameters, return_n_test_samples, return_times, return_estimator, error_score)\u001b[0m\n\u001b[1;32m    526\u001b[0m             \u001b[0mestimator\u001b[0m\u001b[0;34m.\u001b[0m\u001b[0mfit\u001b[0m\u001b[0;34m(\u001b[0m\u001b[0mX_train\u001b[0m\u001b[0;34m,\u001b[0m \u001b[0;34m**\u001b[0m\u001b[0mfit_params\u001b[0m\u001b[0;34m)\u001b[0m\u001b[0;34m\u001b[0m\u001b[0;34m\u001b[0m\u001b[0m\n\u001b[1;32m    527\u001b[0m         \u001b[0;32melse\u001b[0m\u001b[0;34m:\u001b[0m\u001b[0;34m\u001b[0m\u001b[0;34m\u001b[0m\u001b[0m\n\u001b[0;32m--> 528\u001b[0;31m             \u001b[0mestimator\u001b[0m\u001b[0;34m.\u001b[0m\u001b[0mfit\u001b[0m\u001b[0;34m(\u001b[0m\u001b[0mX_train\u001b[0m\u001b[0;34m,\u001b[0m \u001b[0my_train\u001b[0m\u001b[0;34m,\u001b[0m \u001b[0;34m**\u001b[0m\u001b[0mfit_params\u001b[0m\u001b[0;34m)\u001b[0m\u001b[0;34m\u001b[0m\u001b[0;34m\u001b[0m\u001b[0m\n\u001b[0m\u001b[1;32m    529\u001b[0m \u001b[0;34m\u001b[0m\u001b[0m\n\u001b[1;32m    530\u001b[0m     \u001b[0;32mexcept\u001b[0m \u001b[0mException\u001b[0m \u001b[0;32mas\u001b[0m \u001b[0me\u001b[0m\u001b[0;34m:\u001b[0m\u001b[0;34m\u001b[0m\u001b[0;34m\u001b[0m\u001b[0m\n",
      "\u001b[0;32m/usr/lib/python3.7/site-packages/sklearn/svm/base.py\u001b[0m in \u001b[0;36mfit\u001b[0;34m(self, X, y, sample_weight)\u001b[0m\n\u001b[1;32m    210\u001b[0m \u001b[0;34m\u001b[0m\u001b[0m\n\u001b[1;32m    211\u001b[0m         \u001b[0mseed\u001b[0m \u001b[0;34m=\u001b[0m \u001b[0mrnd\u001b[0m\u001b[0;34m.\u001b[0m\u001b[0mrandint\u001b[0m\u001b[0;34m(\u001b[0m\u001b[0mnp\u001b[0m\u001b[0;34m.\u001b[0m\u001b[0miinfo\u001b[0m\u001b[0;34m(\u001b[0m\u001b[0;34m'i'\u001b[0m\u001b[0;34m)\u001b[0m\u001b[0;34m.\u001b[0m\u001b[0mmax\u001b[0m\u001b[0;34m)\u001b[0m\u001b[0;34m\u001b[0m\u001b[0;34m\u001b[0m\u001b[0m\n\u001b[0;32m--> 212\u001b[0;31m         \u001b[0mfit\u001b[0m\u001b[0;34m(\u001b[0m\u001b[0mX\u001b[0m\u001b[0;34m,\u001b[0m \u001b[0my\u001b[0m\u001b[0;34m,\u001b[0m \u001b[0msample_weight\u001b[0m\u001b[0;34m,\u001b[0m \u001b[0msolver_type\u001b[0m\u001b[0;34m,\u001b[0m \u001b[0mkernel\u001b[0m\u001b[0;34m,\u001b[0m \u001b[0mrandom_seed\u001b[0m\u001b[0;34m=\u001b[0m\u001b[0mseed\u001b[0m\u001b[0;34m)\u001b[0m\u001b[0;34m\u001b[0m\u001b[0;34m\u001b[0m\u001b[0m\n\u001b[0m\u001b[1;32m    213\u001b[0m         \u001b[0;31m# see comment on the other call to np.iinfo in this file\u001b[0m\u001b[0;34m\u001b[0m\u001b[0;34m\u001b[0m\u001b[0;34m\u001b[0m\u001b[0m\n\u001b[1;32m    214\u001b[0m \u001b[0;34m\u001b[0m\u001b[0m\n",
      "\u001b[0;32m/usr/lib/python3.7/site-packages/sklearn/svm/base.py\u001b[0m in \u001b[0;36m_dense_fit\u001b[0;34m(self, X, y, sample_weight, solver_type, kernel, random_seed)\u001b[0m\n\u001b[1;32m    269\u001b[0m                 \u001b[0mcache_size\u001b[0m\u001b[0;34m=\u001b[0m\u001b[0mself\u001b[0m\u001b[0;34m.\u001b[0m\u001b[0mcache_size\u001b[0m\u001b[0;34m,\u001b[0m \u001b[0mcoef0\u001b[0m\u001b[0;34m=\u001b[0m\u001b[0mself\u001b[0m\u001b[0;34m.\u001b[0m\u001b[0mcoef0\u001b[0m\u001b[0;34m,\u001b[0m\u001b[0;34m\u001b[0m\u001b[0;34m\u001b[0m\u001b[0m\n\u001b[1;32m    270\u001b[0m                 \u001b[0mgamma\u001b[0m\u001b[0;34m=\u001b[0m\u001b[0mself\u001b[0m\u001b[0;34m.\u001b[0m\u001b[0m_gamma\u001b[0m\u001b[0;34m,\u001b[0m \u001b[0mepsilon\u001b[0m\u001b[0;34m=\u001b[0m\u001b[0mself\u001b[0m\u001b[0;34m.\u001b[0m\u001b[0mepsilon\u001b[0m\u001b[0;34m,\u001b[0m\u001b[0;34m\u001b[0m\u001b[0;34m\u001b[0m\u001b[0m\n\u001b[0;32m--> 271\u001b[0;31m                 max_iter=self.max_iter, random_seed=random_seed)\n\u001b[0m\u001b[1;32m    272\u001b[0m \u001b[0;34m\u001b[0m\u001b[0m\n\u001b[1;32m    273\u001b[0m         \u001b[0mself\u001b[0m\u001b[0;34m.\u001b[0m\u001b[0m_warn_from_fit_status\u001b[0m\u001b[0;34m(\u001b[0m\u001b[0;34m)\u001b[0m\u001b[0;34m\u001b[0m\u001b[0;34m\u001b[0m\u001b[0m\n",
      "\u001b[0;31mKeyboardInterrupt\u001b[0m: "
     ]
    }
   ],
   "source": [
    "for (dataset_name, data) in DATA.items():\n",
    "    print('USING DATASET {}'.format(dataset_name))\n",
    "    for (classifier, hyperparams) in CLASSIFIERS.items():\n",
    "        print('*' * 70)\n",
    "        print(\"Using {}...\".format(classifier))\n",
    "        # Each classificator gets initialized and passed to CV Grid\n",
    "        # Then a common report is created and matrix is vizualized    \n",
    "        CV_report(classifier, \n",
    "                  hyperparams, \n",
    "                  data)\n",
    "        print('*' * 70)"
   ]
  },
  {
   "cell_type": "code",
   "execution_count": null,
   "metadata": {},
   "outputs": [],
   "source": [
    "# Special call for Voting Classifier\n"
   ]
  },
  {
   "cell_type": "code",
   "execution_count": null,
   "metadata": {},
   "outputs": [],
   "source": [
    "# TODO\n",
    "# Download other arff data, add segmen-challenge special rules\n",
    "# Find a way to run VotingClassifier\n",
    "# Upload the ipnby to dl"
   ]
  },
  {
   "cell_type": "code",
   "execution_count": null,
   "metadata": {},
   "outputs": [],
   "source": []
  }
 ],
 "metadata": {
  "kernelspec": {
   "display_name": "Python 3",
   "language": "python",
   "name": "python3"
  },
  "language_info": {
   "codemirror_mode": {
    "name": "ipython",
    "version": 3
   },
   "file_extension": ".py",
   "mimetype": "text/x-python",
   "name": "python",
   "nbconvert_exporter": "python",
   "pygments_lexer": "ipython3",
   "version": "3.7.2"
  }
 },
 "nbformat": 4,
 "nbformat_minor": 2
}
