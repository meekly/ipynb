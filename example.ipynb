{
 "cells": [
  {
   "cell_type": "markdown",
   "metadata": {},
   "source": [
    "# Classifiers evaluation\n",
    "\n",
    "http://scikit-learn.org/stable/modules/multiclass.html"
   ]
  },
  {
   "cell_type": "code",
   "execution_count": 1,
   "metadata": {},
   "outputs": [
    {
     "name": "stdout",
     "output_type": "stream",
     "text": [
      "Populating the interactive namespace from numpy and matplotlib\n"
     ]
    }
   ],
   "source": [
    "from scipy.io import arff\n",
    "import pandas as pd\n",
    "import itertools\n",
    "\n",
    "%pylab inline"
   ]
  },
  {
   "cell_type": "markdown",
   "metadata": {},
   "source": [
    "### ARFF file loading"
   ]
  },
  {
   "cell_type": "code",
   "execution_count": 2,
   "metadata": {},
   "outputs": [
    {
     "data": {
      "text/html": [
       "\n",
       "\n",
       "\n",
       " \n",
       " \n",
       " \n",
       " \n",
       " \n",
       " \n",
       " \n",
       " \n",
       " \n",
       " \n",
       " \n",
       " \n",
       " \n",
       " \n",
       " \n",
       " \n",
       " \n",
       " \n",
       " \n",
       " \n",
       " \n",
       " \n",
       " \n",
       " \n",
       " \n",
       " \n",
       " \n",
       " \n",
       " \n",
       " \n",
       " \n",
       " \n",
       " \n",
       " \n",
       " \n",
       " \n",
       " \n",
       " \n",
       " \n",
       " \n",
       " \n",
       " \n",
       " \n",
       " \n",
       " \n",
       " \n",
       " \n",
       " \n",
       " \n",
       " \n",
       " \n",
       " \n",
       "sepallength sepalwidth petallength petalwidth     class0  5.1     3.5     1.4     0.2     b'Iris-setosa'1 4.9     3.0     1.4     0.2     b'Iris-setosa'2 4.7     3.2     1.3     0.2     b'Iris-setosa'3 4.6     3.1     1.5     0.2     b'Iris-setosa'4 5.0     3.6     1.4     0.2     b'Iris-setosa'\n"
      ],
      "text/plain": [
       " sepallength sepalwidth petallength petalwidth class\n",
       "0 5.1 3.5 1.4 0.2 b'Iris-setosa'\n",
       "1 4.9 3.0 1.4 0.2 b'Iris-setosa'\n",
       "2 4.7 3.2 1.3 0.2 b'Iris-setosa'\n",
       "3 4.6 3.1 1.5 0.2 b'Iris-setosa'\n",
       "4 5.0 3.6 1.4 0.2 b'Iris-setosa'"
      ]
     },
     "execution_count": 2,
     "metadata": {},
     "output_type": "execute_result"
    }
   ],
   "source": [
    "arff_data = arff.loadarff('/Applications/weka-3-8-1/data/iris.arff')\n",
    "df = pd.DataFrame(arff_data[0])\n",
    "df.head()"
   ]
  },
  {
   "cell_type": "markdown",
   "metadata": {},
   "source": [
    "### Sample сonversion"
   ]
  },
  {
   "cell_type": "code",
   "execution_count": 3,
   "metadata": {
    "collapsed": true
   },
   "outputs": [],
   "source": [
    "target = df['class'] \n",
    "data = df.drop(columns = ['class'])\n",
    "target = target.astype('str')"
   ]
  },
  {
   "cell_type": "markdown",
   "metadata": {},
   "source": [
    "### Confusion matrix plot function\n",
    "\n",
    "http://scikit-learn.org/stable/auto_examples/model_selection/plot_confusion_matrix.html#sphx-glr-auto-examples-model-selection-plot-confusion-matrix-py\n",
    " "
   ]
  },
  {
   "cell_type": "code",
   "execution_count": 4,
   "metadata": {},
   "outputs": [],
   "source": [
    "def plot_confusion_matrix(matrix, classes, normalize=False, title='Confusion matrix', cmap=plt.cm.Blues):\n",
    " \"\"\"\n",
    " This function prints and plots the confusion matrix.\n",
    " \"\"\"\n",
    " if normalize:\n",
    "     matrix = matrix.astype('float') / matrix.sum(axis=1)[:, np.newaxis]\n",
    "     print(\"Normalized confusion matrix\")\n",
    " else:\n",
    "     print('Confusion matrix, without normalization')\n",
    "\n",
    " pyplot.imshow(matrix, interpolation='nearest', cmap=cmap)\n",
    " pyplot.title(title)\n",
    " pyplot.colorbar()\n",
    " tick_marks = np.arange(len(classes))\n",
    " pyplot.xticks(tick_marks, classes, rotation=45)\n",
    " pyplot.yticks(tick_marks, classes)\n",
    "\n",
    " fmt = '.2f' if normalize else 'd'\n",
    " thresh = matrix.max() / 2.\n",
    " for i, j in itertools.product(range(matrix.shape[0]), range(matrix.shape[1])):\n",
    "     plt.text(j, i, format(matrix[i, j], fmt),\n",
    "     horizontalalignment=\"center\",\n",
    "     color=\"white\" if matrix[i, j] > thresh else \"black\")\n",
    "\n",
    " pyplot.tight_layout()\n",
    " pyplot.ylabel('True label')\n",
    " pyplot.xlabel('Predicted label')\n"
   ]
  },
  {
   "cell_type": "markdown",
   "metadata": {},
   "source": [
    "# Baseline\n",
    "\n",
    "http://scikit-learn.org/stable/modules/generated/sklearn.dummy.DummyClassifier.html\n",
    "\n",
    "http://scikit-learn.org/stable/modules/generated/sklearn.metrics.confusion_matrix.html#sklearn.metrics.confusion_matrix\n",
    "\n",
    "http://scikit-learn.org/stable/modules/classes.html#module-sklearn.metrics\n"
   ]
  },
  {
   "cell_type": "code",
   "execution_count": 5,
   "metadata": {},
   "outputs": [
    {
     "name": "stdout",
     "output_type": "stream",
     "text": [
      "Accuracy = 0.333\n",
      " precision recall f1-score support\n",
      "\n",
      " b'Iris-setosa' 0.33 1.00 0.50 50\n",
      "b'Iris-versicolor' 0.00 0.00 0.00 50\n",
      " b'Iris-virginica' 0.00 0.00 0.00 50\n",
      "\n",
      " avg / total 0.11 0.33 0.17 150\n",
      "\n",
      "Confusion matrix, without normalization\n"
     ]
    },
    {
     "name": "stderr",
     "output_type": "stream",
     "text": [
      "/usr/local/lib/python3.6/site-packages/sklearn/metrics/classification.py:1135: UndefinedMetricWarning: Precision and F-score are ill-defined and being set to 0.0 in labels with no predicted samples.\n",
      " 'precision', 'predicted', average, warn_for)\n"
     ]
    },
    {
     "data": {
      "image/png": "[encoded data removed]",
      "text/plain": []
     },
     "metadata": {},
     "output_type": "display_data"
    }
   ],
   "source": [
    "from sklearn import dummy, metrics\n",
    "\n",
    "baseline = dummy.DummyClassifier(strategy='most_frequent')\n",
    "baseline.fit (data, target)\n",
    "base_predictions = baseline.predict(data)\n",
    "\n",
    "accuracy = metrics.accuracy_score(target, base_predictions)\n",
    "print (\"Accuracy = {:.3f}\".format(accuracy))\n",
    "\n",
    "print(metrics.classification_report(target, base_predictions))\n",
    "\n",
    "plot_confusion_matrix(metrics.confusion_matrix(target, base_predictions), \n",
    " classes = target.unique(), \n",
    " title='Iris most frequent baseline')\n"
   ]
  },
  {
   "cell_type": "markdown",
   "metadata": {},
   "source": [
    "# Train-test spliting\n",
    "\n",
    "http://scikit-learn.org/stable/modules/cross_validation.html\n",
    "\n",
    "http://scikit-learn.org/stable/modules/generated/sklearn.model_selection.train_test_split.html#sklearn.model_selection.train_test_split\n"
   ]
  },
  {
   "cell_type": "code",
   "execution_count": 6,
   "metadata": {},
   "outputs": [
    {
     "name": "stdout",
     "output_type": "stream",
     "text": [
      "Train data size: 105 instances \n",
      "Test data size: 45 instances\n"
     ]
    }
   ],
   "source": [
    "from sklearn import model_selection as ms\n",
    "\n",
    "train_data, test_data, train_labels, test_labels = ms.train_test_split(data, target, test_size = 0.3)\n",
    "print ('Train data size: {} instances \\nTest data size: {} instances'.format(len(train_data), len(test_data)))"
   ]
  },
  {
   "cell_type": "markdown",
   "metadata": {},
   "source": [
    "### Decision tree training\n",
    "\n",
    "http://scikit-learn.org/stable/modules/generated/sklearn.tree.DecisionTreeClassifier.html"
   ]
  },
  {
   "cell_type": "code",
   "execution_count": 7,
   "metadata": {},
   "outputs": [
    {
     "data": {
      "text/plain": [
       "DecisionTreeClassifier(class_weight=None, criterion='gini', max_depth=None,\n",
       " max_features=None, max_leaf_nodes=None,\n",
       " min_impurity_decrease=0.0, min_impurity_split=None,\n",
       " min_samples_leaf=2, min_samples_split=2,\n",
       " min_weight_fraction_leaf=0.0, presort=False, random_state=1,\n",
       " splitter='best')"
      ]
     },
     "execution_count": 7,
     "metadata": {},
     "output_type": "execute_result"
    }
   ],
   "source": [
    "from sklearn import tree\n",
    "\n",
    "iris_split_tree_model = tree.DecisionTreeClassifier(random_state=1, min_samples_leaf=2)\n",
    "iris_split_tree_model.fit(train_data, train_labels)"
   ]
  },
  {
   "cell_type": "code",
   "execution_count": 10,
   "metadata": {
    "collapsed": true
   },
   "outputs": [],
   "source": [
    "def print_tree (tree): \n",
    " print ('Tree depth: {} \\n'.format(tree.tree_.max_depth))\n",
    " n_nodes = tree.tree_.node_count\n",
    " children_left = tree.tree_.children_left\n",
    " children_right = tree.tree_.children_right\n",
    " feature = tree.tree_.feature\n",
    " threshold = tree.tree_.threshold\n",
    "\n",
    "\n",
    " # The tree structure can be traversed to compute various properties such\n",
    " # as the depth of each node and whether or not it is a leaf.\n",
    " node_depth = np.zeros(shape=n_nodes, dtype=np.int64)\n",
    " is_leaves = np.zeros(shape=n_nodes, dtype=bool)\n",
    " stack = [(0, -1)] # seed is the root node id and its parent depth\n",
    " while len(stack) > 0:\n",
    " node_id, parent_depth = stack.pop()\n",
    " node_depth[node_id] = parent_depth + 1\n",
    "\n",
    " # If we have a test node\n",
    " if (children_left[node_id] != children_right[node_id]):\n",
    " stack.append((children_left[node_id], parent_depth + 1))\n",
    " stack.append((children_right[node_id], parent_depth + 1))\n",
    " else:\n",
    " is_leaves[node_id] = True\n",
    "\n",
    " print(\"The binary tree structure has %s nodes and has \"\n",
    " \"the following tree structure:\"\n",
    " % n_nodes)\n",
    " for i in range(n_nodes):\n",
    " if is_leaves[i]:\n",
    " print(\"%snode=%s leaf node.\" % (node_depth[i] * \"\\t\", i))\n",
    " else:\n",
    " print(\"%snode=%s test node: go to node %s if X[:, %s] <= %s else to \"\n",
    " \"node %s.\"\n",
    " % (node_depth[i] * \"\\t\",\n",
    " i,\n",
    " children_left[i],\n",
    " feature[i],\n",
    " threshold[i],\n",
    " children_right[i],\n",
    " ))"
   ]
  },
  {
   "cell_type": "code",
   "execution_count": 11,
   "metadata": {},
   "outputs": [
    {
     "name": "stdout",
     "output_type": "stream",
     "text": [
      "Tree depth: 4 \n",
      "\n",
      "The binary tree structure has 11 nodes and has the following tree structure:\n",
      "node=0 test node: go to node 1 if X[:, 3] <= 0.699999988079 else to node 2.\n",
      "\tnode=1 leaf node.\n",
      "\tnode=2 test node: go to node 3 if X[:, 3] <= 1.75 else to node 8.\n",
      "\t\tnode=3 test node: go to node 4 if X[:, 2] <= 4.94999980927 else to node 5.\n",
      "\t\t\tnode=4 leaf node.\n",
      "\t\t\tnode=5 test node: go to node 6 if X[:, 3] <= 1.54999995232 else to node 7.\n",
      "\t\t\t\tnode=6 leaf node.\n",
      "\t\t\t\tnode=7 leaf node.\n",
      "\t\tnode=8 test node: go to node 9 if X[:, 2] <= 4.85000038147 else to node 10.\n",
      "\t\t\tnode=9 leaf node.\n",
      "\t\t\tnode=10 leaf node.\n"
     ]
    }
   ],
   "source": [
    "print_tree (iris_split_tree_model)"
   ]
  },
  {
   "cell_type": "markdown",
   "metadata": {},
   "source": [
    "### Evaluate train-test tree classifier\n"
   ]
  },
  {
   "cell_type": "code",
   "execution_count": 12,
   "metadata": {},
   "outputs": [
    {
     "name": "stdout",
     "output_type": "stream",
     "text": [
      "Accuracy = 0.956\n",
      " precision recall f1-score support\n",
      "\n",
      " b'Iris-setosa' 1.00 1.00 1.00 19\n",
      "b'Iris-versicolor' 0.86 1.00 0.92 12\n",
      " b'Iris-virginica' 1.00 0.86 0.92 14\n",
      "\n",
      " avg / total 0.96 0.96 0.96 45\n",
      "\n",
      "Confusion matrix, without normalization\n"
     ]
    },
    {
     "data": {
      "image/png": "[encoded data removed]",
      "text/plain": []
     },
     "metadata": {},
     "output_type": "display_data"
    }
   ],
   "source": [
    "split_tree_predictions = iris_split_tree_model.predict(test_data)\n",
    "\n",
    "split_tree_accuracy = metrics.accuracy_score(test_labels, split_tree_predictions)\n",
    "\n",
    "print (\"Accuracy = {:.3f}\".format(split_tree_accuracy))\n",
    "\n",
    "print(metrics.classification_report(test_labels, split_tree_predictions))\n",
    "\n",
    "plot_confusion_matrix(metrics.confusion_matrix(test_labels, split_tree_predictions), \n",
    " classes = test_labels.unique(), \n",
    " title='Iris test traim split tree')\n"
   ]
  },
  {
   "cell_type": "markdown",
   "metadata": {},
   "source": [
    "# Cross validation\n",
    "\n",
    "http://scikit-learn.org/stable/modules/generated/sklearn.metrics.make_scorer.html#sklearn.metrics.make_scorer\n",
    "\n",
    "http://scikit-learn.org/stable/modules/generated/sklearn.model_selection.cross_validate.html#sklearn.model_selection.cross_validate\n",
    "\n",
    "http://scikit-learn.org/stable/modules/model_evaluation.html#multimetric-scoring\n",
    "\n"
   ]
  },
  {
   "cell_type": "markdown",
   "metadata": {},
   "source": [
    "### Use scoring "
   ]
  },
  {
   "cell_type": "code",
   "execution_count": 13,
   "metadata": {},
   "outputs": [
    {
     "name": "stdout",
     "output_type": "stream",
     "text": [
      "Evaluation results for 3 folds\n",
      "fit_time: [ 0.002 0.001 0.002]\n",
      "score_time: [ 0.007 0.004 0.003]\n",
      "test_accuracy: [ 0.980 0.902 0.979]\n",
      "train_accuracy: [ 0.980 0.990 0.971]\n",
      "test_recall: [ 0.980 0.902 0.979]\n",
      "train_recall: [ 0.980 0.990 0.971]\n",
      "test_precision: [ 0.981 0.903 0.980]\n",
      "train_precision: [ 0.980 0.990 0.973]\n",
      "test_f1: [ 0.980 0.902 0.979]\n",
      "train_f1: [ 0.980 0.990 0.971]\n"
     ]
    }
   ],
   "source": [
    "iris_cv_tree_model = tree.DecisionTreeClassifier(random_state=1, min_samples_leaf=2)\n",
    "\n",
    "folds = 3\n",
    "\n",
    "acc_scorer = metrics.make_scorer(metrics.accuracy_score)\n",
    "recall_scorer = metrics.make_scorer(metrics.recall_score, average='weighted')\n",
    "prec_scorer = metrics.make_scorer(metrics.precision_score, average='weighted')\n",
    "f1_scorer = metrics.make_scorer(metrics.f1_score, average='weighted')\n",
    "\n",
    "scoring = {'accuracy': acc_scorer, \n",
    " 'recall': recall_scorer, \n",
    " 'precision' : prec_scorer,\n",
    " 'f1': f1_scorer}\n",
    "\n",
    "cv_tree_model_scores = ms.cross_validate (iris_cv_tree_model,\n",
    " data,\n",
    " target,\n",
    " scoring=scoring,\n",
    " cv=folds,\n",
    " return_train_score=True)\n",
    "\n",
    "np.set_printoptions(formatter={'float': '{: 0.3f}'.format})\n",
    "\n",
    "print('Evaluation results for {} folds'.format(folds))\n",
    "\n",
    "for (k,v) in cv_tree_model_scores .items():\n",
    " print(('{}: {}').format(k,v))\n",
    "\n"
   ]
  },
  {
   "cell_type": "markdown",
   "metadata": {},
   "source": [
    "### Get tree cross-validation predictions"
   ]
  },
  {
   "cell_type": "code",
   "execution_count": 14,
   "metadata": {},
   "outputs": [
    {
     "name": "stdout",
     "output_type": "stream",
     "text": [
      "Accuracy = 0.953\n",
      " precision recall f1-score support\n",
      "\n",
      " b'Iris-setosa' 1.00 1.00 1.00 50\n",
      "b'Iris-versicolor' 0.91 0.96 0.93 50\n",
      " b'Iris-virginica' 0.96 0.90 0.93 50\n",
      "\n",
      " avg / total 0.95 0.95 0.95 150\n",
      "\n",
      "Confusion matrix, without normalization\n"
     ]
    },
    {
     "data": {
      "image/png": "[encoded data removed]",
      "text/plain": []
     },
     "metadata": {},
     "output_type": "display_data"
    }
   ],
   "source": [
    "iris_cv_predict_tree_model = tree.DecisionTreeClassifier(random_state=1, min_samples_leaf=2)\n",
    "\n",
    "cv_tree_predictions = ms.cross_val_predict(iris_cv_predict_tree_model, data, target)\n",
    "\n",
    "cv_tree_accuracy = metrics.accuracy_score(target, cv_tree_predictions)\n",
    "print (\"Accuracy = {:.3f}\".format(cv_tree_accuracy))\n",
    "\n",
    "print(metrics.classification_report(target, cv_tree_predictions))\n",
    "\n",
    "plot_confusion_matrix(metrics.confusion_matrix(target, cv_tree_predictions), \n",
    " classes = test_labels.unique(), \n",
    " title='Iris cross-validation tree')"
   ]
  },
  {
   "cell_type": "markdown",
   "metadata": {},
   "source": [
    "# Grid search for Support vector machine\n",
    "\n",
    "https://scikit-learn.org/stable/modules/generated/sklearn.model_selection.GridSearchCV.html\n",
    "\n",
    "http://scikit-learn.org/stable/modules/svm.html\n",
    "\n",
    "http://scikit-learn.org/stable/modules/generated/sklearn.svm.SVC.html#sklearn.svm.SVC"
   ]
  },
  {
   "cell_type": "code",
   "execution_count": 16,
   "metadata": {},
   "outputs": [],
   "source": [
    "train_data, test_data, train_labels, test_labels = ms.train_test_split(data, target, test_size = 0.2)"
   ]
  },
  {
   "cell_type": "code",
   "execution_count": 17,
   "metadata": {},
   "outputs": [
    {
     "name": "stdout",
     "output_type": "stream",
     "text": [
      "Best hyper-parameters for accuracy:\n",
      "{'C': 100, 'gamma': 0.001, 'kernel': 'rbf'}\n"
     ]
    }
   ],
   "source": [
    "from sklearn import svm\n",
    "\n",
    "folds = 3\n",
    "\n",
    "acc_scorer = metrics.make_scorer(metrics.accuracy_score)\n",
    "\n",
    "hyper_params_svc = [{'kernel': ['rbf'],\n",
    " 'gamma': [1e-3, 1e-4],\n",
    " 'C': [1, 10, 100, 1000]},\n",
    " {'kernel': ['linear'], \n",
    " 'C': [1, 10, 100, 1000]}]\n",
    "\n",
    "classifier_svc = svm.SVC()\n",
    "\n",
    "svm_grid = ms.GridSearchCV(\n",
    " classifier_svc, \n",
    " hyper_params_svc, # parameters to tune via cross validation\n",
    " refit=True, # fit using all available data at the end, on the best found param combination\n",
    " scoring=acc_scorer, \n",
    " cv=ms.StratifiedKFold(n_splits=folds)\n",
    ")\n",
    "\n",
    "svm_grid_best_model = svm_grid.fit(train_data, train_labels)\n",
    "\n",
    "print(\"Best hyper-parameters for accuracy:\")\n",
    "print(svm_grid_best_model.best_params_)\n"
   ]
  },
  {
   "cell_type": "code",
   "execution_count": 18,
   "metadata": {},
   "outputs": [
    {
     "name": "stdout",
     "output_type": "stream",
     "text": [
      "Accuracy = 0.933\n",
      " precision recall f1-score support\n",
      "\n",
      " b'Iris-setosa' 1.00 1.00 1.00 10\n",
      "b'Iris-versicolor' 0.92 0.92 0.92 13\n",
      " b'Iris-virginica' 0.86 0.86 0.86 7\n",
      "\n",
      " avg / total 0.93 0.93 0.93 30\n",
      "\n",
      "Confusion matrix, without normalization\n"
     ]
    },
    {
     "data": {
      "image/png": "[encoded data removed]",
      "text/plain": []
     },
     "metadata": {},
     "output_type": "display_data"
    }
   ],
   "source": [
    "predictions_svm = svm_grid_best_model.predict(test_data)\n",
    "\n",
    "svm_grid_best_model_accuracy = metrics.accuracy_score(test_labels, predictions_svm)\n",
    "print (\"Accuracy = {:.3f}\".format(svm_grid_best_model_accuracy))\n",
    "\n",
    "print (metrics.classification_report(test_labels, predictions_svm))\n",
    "\n",
    "plot_confusion_matrix(metrics.confusion_matrix(test_labels, predictions_svm), \n",
    " classes = test_labels.unique(), \n",
    " title='Iris best hyper-params SVC')\n"
   ]
  }
 ],
 "metadata": {
  "kernelspec": {
   "display_name": "Python 3",
   "language": "python",
   "name": "python3"
  },
  "language_info": {
   "codemirror_mode": {
    "name": "ipython",
    "version": 3
   },
   "file_extension": ".py",
   "mimetype": "text/x-python",
   "name": "python",
   "nbconvert_exporter": "python",
   "pygments_lexer": "ipython3",
   "version": "3.7.2"
  }
 },
 "nbformat": 4,
 "nbformat_minor": 2
}
